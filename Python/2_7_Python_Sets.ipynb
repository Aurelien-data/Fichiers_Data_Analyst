{
  "cells": [
    {
      "cell_type": "markdown",
      "metadata": {
        "id": "iOaZdJNUw9sA"
      },
      "source": [
        "There is another object type we haven't talked about: `set`  \n",
        "It looks like a `dictionary`, but it's not a dictionary."
      ]
    },
    {
      "cell_type": "code",
      "execution_count": null,
      "metadata": {
        "id": "HRsoiLZC5wmE"
      },
      "outputs": [],
      "source": [
        "my_set = {\"apple\", \"kiwi\", \"pineapple\"}"
      ]
    },
    {
      "cell_type": "code",
      "execution_count": null,
      "metadata": {
        "colab": {
          "base_uri": "https://localhost:8080/"
        },
        "id": "-oEmyHpTwNe-",
        "outputId": "9fe9fbc8-824b-47c1-b9d4-dcedf1a2a05a"
      },
      "outputs": [
        {
          "data": {
            "text/plain": [
              "set"
            ]
          },
          "execution_count": 2,
          "metadata": {},
          "output_type": "execute_result"
        }
      ],
      "source": [
        "type(my_set)"
      ]
    },
    {
      "cell_type": "markdown",
      "metadata": {
        "id": "3SQwkD7TxRLa"
      },
      "source": [
        "Question : Why isn't `my_set` an object from the `dict` class ?"
      ]
    },
    {
      "cell_type": "markdown",
      "metadata": {
        "id": "IYSIv3moxkdx"
      },
      "source": [
        "Answer :"
      ]
    },
    {
      "cell_type": "code",
      "execution_count": null,
      "metadata": {
        "id": "jstsEE05LzhS"
      },
      "outputs": [],
      "source": [
        "# because sets are unordered, unchangeable, and every elements inside are unique"
      ]
    },
    {
      "cell_type": "markdown",
      "metadata": {
        "id": "A4otkNd2x6Tk"
      },
      "source": [
        "Another specificity from `set` object is that they cannot have two items with the same values.\n",
        "\n",
        "Execute the cells below."
      ]
    },
    {
      "cell_type": "code",
      "execution_count": 1,
      "metadata": {
        "id": "K-PLnHTuwwEz"
      },
      "outputs": [],
      "source": [
        "a_set = {\"banana\", \"lemon\", \"lemon\", \"cherry\", \"lemon\", \"strawberry\", \"lemon\" }"
      ]
    },
    {
      "cell_type": "code",
      "execution_count": 2,
      "metadata": {
        "colab": {
          "base_uri": "https://localhost:8080/"
        },
        "id": "kids3QsSyfkM",
        "outputId": "e9f6676d-3128-46da-ae24-58d37dd78fa7"
      },
      "outputs": [
        {
          "data": {
            "text/plain": [
              "{'banana', 'cherry', 'lemon', 'strawberry'}"
            ]
          },
          "execution_count": 2,
          "metadata": {},
          "output_type": "execute_result"
        }
      ],
      "source": [
        "a_set"
      ]
    },
    {
      "cell_type": "markdown",
      "metadata": {
        "id": "__0F2pryyq5g"
      },
      "source": [
        "Question :  \n",
        "\n",
        "Hom many items do the sets below have ?\n",
        "\n",
        "To answer, you can use your knowledge or the `len()` function."
      ]
    },
    {
      "cell_type": "code",
      "execution_count": null,
      "metadata": {
        "id": "UWbbfikQygNO"
      },
      "outputs": [],
      "source": [
        "this_set = {1, 2, 3, 1, 2, 4, 1, 4, 3, 5, 6, 8, 9, 8, 3, 7, 6, 8, 6, 8, 9}"
      ]
    },
    {
      "cell_type": "code",
      "execution_count": 4,
      "metadata": {
        "id": "Q62tigIg6Lf1"
      },
      "outputs": [
        {
          "data": {
            "text/plain": [
              "9"
            ]
          },
          "execution_count": 4,
          "metadata": {},
          "output_type": "execute_result"
        }
      ],
      "source": [
        "this_set = {1, 2, 3, 1, 2, 4, 1, 4, 3, 5, 6, 8, 9, 8, 3, 7, 6, 8, 6, 8, 9}\n",
        "len(this_set)"
      ]
    },
    {
      "cell_type": "markdown",
      "metadata": {
        "id": "ES1OCVL9zaAK"
      },
      "source": [
        "Question :  \n",
        "\n",
        "Can a set contain elements with differents types ?"
      ]
    },
    {
      "cell_type": "code",
      "execution_count": null,
      "metadata": {
        "id": "EohhSxaDMYVS"
      },
      "outputs": [],
      "source": [
        "# Yes"
      ]
    },
    {
      "cell_type": "code",
      "execution_count": 6,
      "metadata": {
        "id": "fZ5t11yEzMHB"
      },
      "outputs": [
        {
          "name": "stdout",
          "output_type": "stream",
          "text": [
            "{'hey', True, 2, 2.33}\n"
          ]
        }
      ],
      "source": [
        "# try to make a set with objects with different types here:\n",
        "answer = {\"hey\", 2, True, 2.33}\n",
        "print(answer)"
      ]
    },
    {
      "cell_type": "markdown",
      "metadata": {
        "id": "0LSXvAmxz5JM"
      },
      "source": [
        "Question :  \n",
        "\n",
        "Using the list below, there is a simple way to know the amount of unique values from this list.\n",
        "\n",
        "What is it ?"
      ]
    },
    {
      "cell_type": "code",
      "execution_count": 2,
      "metadata": {
        "id": "hojccL3Qz3nJ"
      },
      "outputs": [
        {
          "name": "stdout",
          "output_type": "stream",
          "text": [
            "9\n"
          ]
        }
      ],
      "source": [
        "a_list = [1, 2, 3, 1, 2, 4, 1, 4, 3, 5, 6, 8, 9, 8, 3, 7, 6, 8, 6, 8, 9]\n",
        "\n",
        "a_set = set(a_list)\n",
        "print(len(a_set))"
      ]
    },
    {
      "cell_type": "markdown",
      "metadata": {
        "id": "GNHMN2z702c4"
      },
      "source": [
        "There are four collection data types in the Python programming language:\n",
        "\n",
        "* `List` is a collection which is ordered and changeable. Allows duplicate members.\n",
        "* `Tuple` is a collection which is ordered and unchangeable. Allows duplicate members.\n",
        "* `Set` is a collection which is unordered, unchangeable, and unindexed. No duplicate members, but you can remove items and add new items.\n",
        "* `Dictionary` is a collection which is ordered and changeable. No duplicate members."
      ]
    },
    {
      "cell_type": "markdown",
      "metadata": {
        "id": "RBT2xWlL1-3Y"
      },
      "source": [
        "Question :   \n",
        "Find a way to access to the first value of `this_set`"
      ]
    },
    {
      "cell_type": "code",
      "execution_count": 1,
      "metadata": {
        "id": "SLr8_oFV6P2o"
      },
      "outputs": [
        {
          "name": "stdout",
          "output_type": "stream",
          "text": [
            "1\n"
          ]
        }
      ],
      "source": [
        "this_set = {1, 2, 3, 1, 2, 4, 1, 4, 3, 5, 6, 8, 9, 8, 3, 7, 6, 8, 6, 8, 9}\n",
        "\n",
        "a_this_set = list(this_set)\n",
        "print(a_this_set[0])          "
      ]
    },
    {
      "cell_type": "markdown",
      "metadata": {
        "id": "wzNCOWt73F-i"
      },
      "source": [
        "Question :  \n",
        "Find a way to add a value that will be unique in `a_set`"
      ]
    },
    {
      "cell_type": "code",
      "execution_count": 16,
      "metadata": {
        "colab": {
          "base_uri": "https://localhost:8080/"
        },
        "id": "ePwn6A1U13us",
        "outputId": "ffa98938-9c72-49b8-ebb2-d11946f7d553"
      },
      "outputs": [
        {
          "name": "stdout",
          "output_type": "stream",
          "text": [
            "{'banana', 'cherry', 'apple', 'strawberry', 'lemon'}\n"
          ]
        }
      ],
      "source": [
        "a_set\n",
        "\n",
        "a_set.add(\"apple\")      # utilisation de la fonction add pour ajouter une valeur à un set\n",
        "print(a_set)"
      ]
    },
    {
      "cell_type": "markdown",
      "metadata": {
        "id": "ROPmLE4d3fNm"
      },
      "source": [
        "Question :  \n",
        "Now, you have to add the value from `this_set` to `a_set`:"
      ]
    },
    {
      "cell_type": "code",
      "execution_count": 17,
      "metadata": {
        "id": "yuIZSU-p6SkW"
      },
      "outputs": [
        {
          "data": {
            "text/plain": [
              "{1, 2, 3, 4, 5, 6, 7, 8, 9, 'apple', 'banana', 'cherry', 'lemon', 'strawberry'}"
            ]
          },
          "execution_count": 17,
          "metadata": {},
          "output_type": "execute_result"
        }
      ],
      "source": [
        "this_set = {1, 2, 3, 1, 2, 4, 1, 4, 3, 5, 6, 8, 9, 8, 3, 7, 6, 8, 6, 8, 9}\n",
        "\n",
        "a_set\n",
        "\n",
        "this_set.union(a_set)       # utilisation de l'opération .union"
      ]
    },
    {
      "cell_type": "markdown",
      "metadata": {
        "id": "8mjIqZuD3x7m"
      },
      "source": [
        "Question :    \n",
        "\n",
        "If you display a `set` object, it won't display with the same order you define it.\n",
        "\n",
        "What can you say about the order the element are display ?"
      ]
    },
    {
      "cell_type": "markdown",
      "metadata": {
        "id": "vZmfsNO64Kq_"
      },
      "source": [
        "Answer :     \n"
      ]
    },
    {
      "cell_type": "code",
      "execution_count": null,
      "metadata": {},
      "outputs": [],
      "source": [
        "# elements are dispalyed randomly, because set is an unordered object"
      ]
    },
    {
      "cell_type": "markdown",
      "metadata": {
        "id": "D8f0iGCV49Cb"
      },
      "source": [
        "Question :   \n",
        "\n",
        "Find a way to display the elements that exist in both sets."
      ]
    },
    {
      "cell_type": "code",
      "execution_count": 18,
      "metadata": {
        "id": "D59WGohD3pb-"
      },
      "outputs": [
        {
          "data": {
            "text/plain": [
              "{'grapes', 'kiwi'}"
            ]
          },
          "execution_count": 18,
          "metadata": {},
          "output_type": "execute_result"
        }
      ],
      "source": [
        "a_set = {\"banana\", \"grapes\", \"cherry\", \"pineapple\", \"kiwi\", \"strawberry\"}\n",
        "\n",
        "b_set = {\"lemon\", \"kiwi\", \"grapes\", \"blueberry\", \"watermelon\"}\n",
        "\n",
        "a_set.intersection(b_set)       # utilisation de l'opération .intersection"
      ]
    },
    {
      "cell_type": "markdown",
      "metadata": {
        "id": "ZgWrjjPP5bQP"
      },
      "source": [
        "There is other methods for `set` objects, that you can find [here](https://www.w3schools.com/python/python_ref_set.asp)."
      ]
    }
  ],
  "metadata": {
    "colab": {
      "provenance": []
    },
    "kernelspec": {
      "display_name": "Python 3",
      "name": "python3"
    },
    "language_info": {
      "codemirror_mode": {
        "name": "ipython",
        "version": 3
      },
      "file_extension": ".py",
      "mimetype": "text/x-python",
      "name": "python",
      "nbconvert_exporter": "python",
      "pygments_lexer": "ipython3",
      "version": "3.11.9"
    }
  },
  "nbformat": 4,
  "nbformat_minor": 0
}
