{
 "cells": [
  {
   "cell_type": "markdown",
   "metadata": {
    "id": "zsHobPhC3ffd"
   },
   "source": [
    "\n",
    "## Mathematical functions that need coding\n",
    "![Find x](https://www.mathwarehouse.com/jokes/images/find-x-funny-math-image-joke.webp)\n",
    "\n",
    "**Now the statisticians are begging you to code ready-made math functions for them. Below are the functions they use most often. Code the functions in the cells below:**\n",
    "\n",
    "- Square of a number: Create a function that returns the square of a number.\n",
    "- Cube of a number: Create a function that returns the cube of a number.\n",
    "- Absolute value: Create a function that returns the absolute value of a number.\n",
    "- Factorial of a number: Create a function that returns the factorial of a number.\n",
    "- Mode of a list of numbers: Create a function that returns the mode of a list of numbers, for instance [68, 99, 65, 44, 77, 44, 44] --> 44.\n",
    "- Average of a list of numbers: Create a function that returns the average of a list of numbers.\n",
    "- Minimum of a list of numbers: Create a function that returns the minimum from within a list of numbers.\n",
    "- Maximum of a list of numbers: Create a function that returns the maximum from within a list of numbers.\n",
    "\n",
    "**Yes, all those functions already exist in dedicated modules, and you may not reuse them, unfortunately: you may only use loops, conditionals, basic structures, `len`, addition, subtraction, multiplication, division and powers.**\n",
    "\n",
    "**Don't forget to test your functions with at least two possible cases!**"
   ]
  },
  {
   "cell_type": "markdown",
   "metadata": {
    "id": "l7a_3Ouqptmf"
   },
   "source": [
    "Optional Question: Create a function that returns the mode of a list of numbers when more than one modal value is present in a given data set. For example [68, 68, 68, 99, 65, 44, 77, 44, 44] --> [68, 44]"
   ]
  },
  {
   "cell_type": "code",
   "execution_count": 21,
   "metadata": {},
   "outputs": [
    {
     "data": {
      "text/plain": [
       "9"
      ]
     },
     "execution_count": 21,
     "metadata": {},
     "output_type": "execute_result"
    }
   ],
   "source": [
    "# mission Square of a number\n",
    "\n",
    "def fn_square(n):\n",
    "    return (n * n)\n",
    "\n",
    "fn_square(3)"
   ]
  },
  {
   "cell_type": "code",
   "execution_count": 20,
   "metadata": {},
   "outputs": [
    {
     "data": {
      "text/plain": [
       "64"
      ]
     },
     "execution_count": 20,
     "metadata": {},
     "output_type": "execute_result"
    }
   ],
   "source": [
    "# mission Cube of a number\n",
    "\n",
    "def fn_cube(n):\n",
    "    return (n * n * n)\n",
    "\n",
    "fn_cube(4)"
   ]
  },
  {
   "cell_type": "code",
   "execution_count": 40,
   "metadata": {},
   "outputs": [
    {
     "data": {
      "text/plain": [
       "2"
      ]
     },
     "execution_count": 40,
     "metadata": {},
     "output_type": "execute_result"
    }
   ],
   "source": [
    "# mission Absolute Value\n",
    "\n",
    "def fn_absolute_value(n):\n",
    "    if n < 0:\n",
    "        return - n\n",
    "    else:\n",
    "        return n\n",
    "\n",
    "fn_absolute_value(-2)"
   ]
  },
  {
   "cell_type": "code",
   "execution_count": 11,
   "metadata": {},
   "outputs": [
    {
     "data": {
      "text/plain": [
       "120"
      ]
     },
     "execution_count": 11,
     "metadata": {},
     "output_type": "execute_result"
    }
   ],
   "source": [
    "# mission Factoriel of a number\n",
    "\n",
    "def fn_factoriel(n):\n",
    "    result = 1\n",
    "    for nb in range(1, n +1):\n",
    "        result *= nb\n",
    "    return result\n",
    "\n",
    "fn_factoriel(5)\n",
    "\n",
    "\n"
   ]
  },
  {
   "cell_type": "code",
   "execution_count": null,
   "metadata": {},
   "outputs": [
    {
     "data": {
      "text/plain": [
       "'Le mode de la liste est 2, qui est présent 2 fois'"
      ]
     },
     "execution_count": 1,
     "metadata": {},
     "output_type": "execute_result"
    }
   ],
   "source": [
    "# mission of a mode in list of number\n",
    "\n",
    "liste_1= [1,2,2,3,4,5]\n",
    "\n",
    "def mode(liste_1):\n",
    "\n",
    "    nb = 0          # Je déclare une variable à 0 qui correspondra au nombre dont l'occurence est la plus forte\n",
    "    modemax = 0     # Je déclare une variable comparative pour définir le maxi entre chaque mode bouclé\n",
    "\n",
    "    for val in liste_1 :        # Boucle sur chaque valeur de la liste\n",
    "        mode = 0                # Je déclare une variable qui s'incrémentera à chaque fois que le nombre se retrouve\n",
    "        for val2 in liste_1:    # Boucle comparative d'une valeur avec chaque valeur de la liste\n",
    "            if val2 == val:     # Si la valeur de la boucle 2 est égale à la valeur de la boucle 1, alors la variable mode s'incrémente de +1\n",
    "                mode+=1\n",
    "\n",
    "        if mode > modemax:        # Si la variable \"mode\" est est supérieure au maximum, il devient le \"nouveau\" maximum et sera la valeur retournée\n",
    "            modemax = mode\n",
    "            nb = val\n",
    "    return(f\"Le mode de la liste est {nb}, qui est présent {modemax} fois\")\n",
    "\n",
    "mode(liste_1)\n"
   ]
  },
  {
   "cell_type": "code",
   "execution_count": 26,
   "metadata": {},
   "outputs": [
    {
     "data": {
      "text/plain": [
       "71.0"
      ]
     },
     "execution_count": 26,
     "metadata": {},
     "output_type": "execute_result"
    }
   ],
   "source": [
    "# mission average of list of number\n",
    "\n",
    "def fn_average(list):           # déclaration fonction\n",
    "  sum = 0                       # compteur à incrémenter\n",
    "  for element in list:          # boucle for pour parcourir la liste en parametre de la fonction\n",
    "    sum += element              # incrémentation du compteur\n",
    "  return sum / len(list)        # ce que doit faire la fonction, variable sum qui divise la liste \n",
    "\n",
    "fn_average([11,32,23,234,55])"
   ]
  },
  {
   "cell_type": "code",
   "execution_count": 20,
   "metadata": {},
   "outputs": [
    {
     "data": {
      "text/plain": [
       "11"
      ]
     },
     "execution_count": 20,
     "metadata": {},
     "output_type": "execute_result"
    }
   ],
   "source": [
    "# mission minimum number in a list\n",
    "\n",
    "def minimum(list_number):       # déclaration fonction\n",
    "    minimum = list_number[0]    # déclaration variable pour stocker la liste\n",
    "    for ele in list_number:     # boucle for pour parcourir chaque element de la liste\n",
    "        if ele < minimum:       # condition si un element de la liste est inferieur au nombre dans la liste\n",
    "            minimum = ele       # alors l'element est egal au minimum present dans la liste\n",
    "    return minimum              # ce que dois faire la fonction\n",
    "\n",
    "minimum([11,23,62,19])"
   ]
  },
  {
   "cell_type": "code",
   "execution_count": 23,
   "metadata": {},
   "outputs": [
    {
     "data": {
      "text/plain": [
       "62"
      ]
     },
     "execution_count": 23,
     "metadata": {},
     "output_type": "execute_result"
    }
   ],
   "source": [
    "# mission maximum number in a list\n",
    "\n",
    "def maximum(list_number):       # déclaration fonction\n",
    "    maximum = list_number[0]    # déclaration variable pour stocker la liste\n",
    "    for ele in list_number:     # boucle for pour parcourir chaque element de la liste\n",
    "        if ele > maximum:       # condition si un element de la liste est maximum au nombre dans la liste\n",
    "            maximum = ele       # alors l'element est egal au minimum present dans la liste\n",
    "    return maximum              # ce que dois faire la fonction\n",
    "\n",
    "maximum([11,23,62,19])\n",
    "\n",
    "\n"
   ]
  }
 ],
 "metadata": {
  "colab": {
   "provenance": []
  },
  "kernelspec": {
   "display_name": "Python 3",
   "name": "python3"
  },
  "language_info": {
   "codemirror_mode": {
    "name": "ipython",
    "version": 3
   },
   "file_extension": ".py",
   "mimetype": "text/x-python",
   "name": "python",
   "nbconvert_exporter": "python",
   "pygments_lexer": "ipython3",
   "version": "3.11.9"
  }
 },
 "nbformat": 4,
 "nbformat_minor": 0
}
