{
 "cells": [
  {
   "cell_type": "markdown",
   "metadata": {
    "id": "co2X9cGIieV0"
   },
   "source": [
    "# Help for statisticians!\n",
    "\n",
    "Your fellow statisticians need you. They want to learn how to program in Python and have tons of calculations to do.\n",
    "\n",
    "Very kindly, you agree to help them. Complete the missions below."
   ]
  },
  {
   "cell_type": "markdown",
   "metadata": {
    "id": "rvnKhKV7CVoS"
   },
   "source": [
    "![Einstien le génie](https://wallup.net/wp-content/uploads/2018/09/30/201016-funny-albert-einstein-748x468.jpg)"
   ]
  },
  {
   "cell_type": "code",
   "execution_count": null,
   "metadata": {
    "id": "S4jmbgw-kWcj"
   },
   "outputs": [],
   "source": [
    "# Mission 1: Create a function, that simply returns the string \"Hello Python\"\n"
   ]
  },
  {
   "cell_type": "code",
   "execution_count": 1,
   "metadata": {
    "id": "tE2pvJ5u7TEk"
   },
   "outputs": [
    {
     "data": {
      "text/plain": [
       "'Hello Python'"
      ]
     },
     "execution_count": 1,
     "metadata": {},
     "output_type": "execute_result"
    }
   ],
   "source": [
    "def string(a):\n",
    "    return a\n",
    "\n",
    "\n",
    "string(\"Hello Python\")"
   ]
  },
  {
   "cell_type": "code",
   "execution_count": 6,
   "metadata": {
    "id": "4rJVUEkNk5Oo"
   },
   "outputs": [
    {
     "data": {
      "text/plain": [
       "True"
      ]
     },
     "execution_count": 6,
     "metadata": {},
     "output_type": "execute_result"
    }
   ],
   "source": [
    "# Mission 2: Create a function that takes in 2 numbers as parameters, and returns a boolean indicating whether or not they are equal\n",
    "\n",
    "def number(a, b):           # instanciation de la fonction avec deux paramètres\n",
    "    return a == b           # corps de la fonction : ce que je veux que la fonction applique\n",
    "\n",
    "number(2, 2)                # appelle de la fonction\n"
   ]
  },
  {
   "cell_type": "code",
   "execution_count": 3,
   "metadata": {},
   "outputs": [
    {
     "data": {
      "text/plain": [
       "False"
      ]
     },
     "execution_count": 3,
     "metadata": {},
     "output_type": "execute_result"
    }
   ],
   "source": [
    "\n",
    "def number(a, b):\n",
    "    return a == b\n",
    "\n",
    "number(1, 2)\n"
   ]
  },
  {
   "cell_type": "code",
   "execution_count": null,
   "metadata": {
    "id": "Q9X4m3D4h-xu"
   },
   "outputs": [],
   "source": [
    "# Mission 3: Create a function that takes a number as parameter, and returns the first 10 multiples of the number as a list\n",
    "# Example: 2 -> [2, 4, 6, 8, 10, 12, 14, 16, 18, 20]"
   ]
  },
  {
   "cell_type": "code",
   "execution_count": 141,
   "metadata": {
    "id": "rlM5Yh7PFBLf"
   },
   "outputs": [
    {
     "data": {
      "text/plain": [
       "[8, 16, 24, 32, 40, 48, 56, 64, 72, 80]"
      ]
     },
     "execution_count": 141,
     "metadata": {},
     "output_type": "execute_result"
    }
   ],
   "source": [
    "def multiply(nb):                               # instanciation de la fonction avec deux paramètres\n",
    "    return [nb * ele for ele in range(1, 11)]   # je déclare l'argument que la boucle multipliera \n",
    "\n",
    "multiply(8)\n",
    "\n",
    "\n"
   ]
  },
  {
   "cell_type": "code",
   "execution_count": null,
   "metadata": {
    "id": "Fe9kZrvklI0b"
   },
   "outputs": [],
   "source": [
    "# Mission 4: Create a function that takes a string as input, and return its vowels only, preserving case.\n",
    "# Example: \"Antidisestablishmentarianism\" -> \"Aiieaieaiai\"\n",
    "# Example: \"TO BE OR NOT TO BE\" -> \"OEOOOE\"\n",
    "\n"
   ]
  },
  {
   "cell_type": "code",
   "execution_count": 1,
   "metadata": {
    "id": "M3QVVr48FsVL"
   },
   "outputs": [
    {
     "name": "stdout",
     "output_type": "stream",
     "text": [
      "yyiyiuEYYIUUUUUOYeyi"
     ]
    }
   ],
   "source": [
    "var_1 = input(\"write a sentence\")                              # instanciation variable entrée utilisateur\n",
    "voyelles = [\"a\",\"e\", \"i\",\"o\",\"u\",\"y\", \"A\",\"E\",\"I\",\"O\",\"U\",\"Y\"]      # définir la liste de voyelle comme point de comparaison\n",
    "\n",
    "\n",
    "def number():                                                       # création de la fonction\n",
    "    for lettre in var_1:                                            # boucle for pour traverser et rechercher les voyelles dans var_1\n",
    "        if lettre in voyelles:                                      # condition if pour check lettre var_1 = voyelles ou pas\n",
    "            print(lettre, end=\"\")                                   # affichage résultat\n",
    "\n",
    "number()                                                            # appelle de la fonction"
   ]
  },
  {
   "cell_type": "code",
   "execution_count": null,
   "metadata": {
    "id": "7b3JtuNClm4a"
   },
   "outputs": [],
   "source": [
    "# Mission 5: Create a function that takes 2 numbers as parameters, and returns the result of a division operation.\n",
    "# Test if the denominator is equal to 0 and if so, display a message that says: \"You can't divide by zero\".\n"
   ]
  },
  {
   "cell_type": "code",
   "execution_count": 239,
   "metadata": {},
   "outputs": [
    {
     "data": {
      "text/plain": [
       "2.0"
      ]
     },
     "execution_count": 239,
     "metadata": {},
     "output_type": "execute_result"
    }
   ],
   "source": [
    "def division(a, b):\n",
    "    if a == 0 or b == 0:\n",
    "        return (\"You can't divide by zero\")\n",
    "    else:    \n",
    "        return a / b\n",
    "    \n",
    "        \n",
    "division(8, 4)\n"
   ]
  },
  {
   "cell_type": "code",
   "execution_count": null,
   "metadata": {
    "id": "6hjrrDyUlN8o"
   },
   "outputs": [],
   "source": [
    "# Mission 6: First, choose two arithmetical operations (such as +, -, *, or /)\n",
    "# Then, create a function that takes in 3 numbers as parameters and carries out those operations, displays a message indicating if the result is positive, negative or zero, and finally returns the result.\n",
    "# If a division by zero is attempted, display an error message.\n",
    "\n",
    "# Example with multiplication and addition:\n",
    "# Calling with 0, 32, 2 will compute (0*32)+2, will display \"Positive result\", and return 2\n",
    "\n",
    "# Example with division and addition:\n",
    "# Calling with 21, 0, 3 will try to compute (21/0)+2, will display \"Divide-by-zero error\"\n"
   ]
  },
  {
   "cell_type": "code",
   "execution_count": 11,
   "metadata": {
    "id": "a93Ky3TxPC9V"
   },
   "outputs": [
    {
     "data": {
      "text/plain": [
       "11.5"
      ]
     },
     "execution_count": 11,
     "metadata": {},
     "output_type": "execute_result"
    }
   ],
   "source": [
    "def operations (val1, val2, val3):              # instanctiation de la fonction avec 3 arguments\n",
    "    if val3 == 0:\n",
    "        return \"Tu ne peux pas diviser par zéro\"\n",
    "    else:\n",
    "        return (val1 * val2) / val3             # condition autrement, calcul de l'opération\n",
    "    \n",
    "operations(23, 2, 4)\n",
    "\n"
   ]
  },
  {
   "cell_type": "code",
   "execution_count": null,
   "metadata": {
    "id": "r6DP6oTDmqfs"
   },
   "outputs": [],
   "source": [
    "# Mission 7: Create a function that takes a number as a parameter that corresponds to gross salary and returns the net salary for executives.\n",
    "# You can specify any amount of deductions, or base them on your country's example\n"
   ]
  },
  {
   "cell_type": "code",
   "execution_count": 8,
   "metadata": {
    "id": "L_DsOazcPL9A"
   },
   "outputs": [
    {
     "data": {
      "text/plain": [
       "'Ton salaire net sera de 1560.0'"
      ]
     },
     "execution_count": 8,
     "metadata": {},
     "output_type": "execute_result"
    }
   ],
   "source": [
    "def gross_salary(gross):\n",
    "    net_salary = gross * 0.78\n",
    "    return f\"Ton salaire net sera de {net_salary}\"\n",
    "\n",
    "gross_salary(2000)"
   ]
  },
  {
   "cell_type": "code",
   "execution_count": null,
   "metadata": {
    "id": "T57txpOLjVXv"
   },
   "outputs": [],
   "source": [
    "# Mission 8: Create a function that can swap the values of any two variables, such as if variable A = 1 and variable B = 2, after applying the function, variable A = 2 and B = 1"
   ]
  },
  {
   "cell_type": "code",
   "execution_count": 8,
   "metadata": {
    "id": "Qhlq9Dmukdhp"
   },
   "outputs": [
    {
     "name": "stdout",
     "output_type": "stream",
     "text": [
      "4\n",
      "23\n",
      "(4, 23)\n"
     ]
    }
   ],
   "source": [
    "# fonction qui peut inverser les elements stockes dans deux variables\n",
    "\n",
    "def swap(val1, val2):           # je définis ma fonction avec ses paramètres\n",
    "    val1, val2 = val2, val1     # \n",
    "    print(val1)                 # j'affiche le premier paramètre de ma fonction \n",
    "    print(val2)                 # j'affiche le deuxieme paramètre de ma fonction\n",
    "    return(val1, val2)          # je retourne les arguments de ma fonction\n",
    "\n",
    "print(swap(23, 4))              # j'affiche en sortie le résultat de ma fonction"
   ]
  },
  {
   "cell_type": "code",
   "execution_count": null,
   "metadata": {},
   "outputs": [],
   "source": []
  },
  {
   "cell_type": "markdown",
   "metadata": {
    "id": "luK7wJDOpHIf"
   },
   "source": []
  }
 ],
 "metadata": {
  "colab": {
   "provenance": []
  },
  "kernelspec": {
   "display_name": "Python 3",
   "name": "python3"
  },
  "language_info": {
   "codemirror_mode": {
    "name": "ipython",
    "version": 3
   },
   "file_extension": ".py",
   "mimetype": "text/x-python",
   "name": "python",
   "nbconvert_exporter": "python",
   "pygments_lexer": "ipython3",
   "version": "3.11.9"
  }
 },
 "nbformat": 4,
 "nbformat_minor": 0
}
