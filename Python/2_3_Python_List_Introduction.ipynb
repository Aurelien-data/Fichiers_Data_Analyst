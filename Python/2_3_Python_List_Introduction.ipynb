{
 "cells": [
  {
   "cell_type": "markdown",
   "metadata": {
    "id": "uDlWe7PiBUjB"
   },
   "source": [
    "# Mission 1"
   ]
  },
  {
   "cell_type": "markdown",
   "metadata": {
    "id": "Cp5MIVdGBwBW"
   },
   "source": [
    "For each cell, execute the code and answer the question before moving on to the next."
   ]
  },
  {
   "cell_type": "code",
   "execution_count": 2,
   "metadata": {
    "colab": {
     "base_uri": "https://localhost:8080/"
    },
    "id": "C66ySw9N3hfc",
    "outputId": "732ab3ee-397f-441d-c0fa-f16f3df4912a"
   },
   "outputs": [
    {
     "name": "stdout",
     "output_type": "stream",
     "text": [
      "(0, 'Fredy')\n",
      "(1, 'Nicolas')\n",
      "(2, 'Alexandre')\n",
      "<class 'tuple'>\n"
     ]
    }
   ],
   "source": [
    "names = [\"Fredy\", \"Nicolas\", \"Alexandre\"]\n",
    "\n",
    "for i in enumerate(names):\n",
    "  print(i)\n",
    "\n",
    "print(type(i))"
   ]
  },
  {
   "cell_type": "markdown",
   "metadata": {
    "id": "m0NGV7X-B5Q6"
   },
   "source": [
    "1. What type of object is returned as output?  \n",
    "Hint: You can use `type(i)`."
   ]
  },
  {
   "cell_type": "markdown",
   "metadata": {
    "id": "ZbegLZzxFOY_"
   },
   "source": [
    "Answer:\n"
   ]
  },
  {
   "cell_type": "code",
   "execution_count": null,
   "metadata": {
    "id": "5bCr6V90-UB3"
   },
   "outputs": [],
   "source": [
    "# what is returned is a tuple"
   ]
  },
  {
   "cell_type": "code",
   "execution_count": 5,
   "metadata": {
    "colab": {
     "base_uri": "https://localhost:8080/"
    },
    "id": "mONbGEMtCe5S",
    "outputId": "0d6186ea-612e-4210-cf5a-55c80393473b"
   },
   "outputs": [
    {
     "name": "stdout",
     "output_type": "stream",
     "text": [
      "Fredy\n",
      "Nicolas\n",
      "Alexandre\n",
      "<class 'int'>\n",
      "<class 'str'>\n"
     ]
    }
   ],
   "source": [
    "for i, val in enumerate(names):\n",
    "  print(val)\n",
    "\n",
    "print(type(i))\n",
    "print(type(val))"
   ]
  },
  {
   "cell_type": "markdown",
   "metadata": {
    "id": "O1J3Y5xICnyE"
   },
   "source": [
    "2. What does `i` correspond to?  \n",
    "What does `val` correspond to?  \n",
    "Why is it so?"
   ]
  },
  {
   "cell_type": "markdown",
   "metadata": {
    "id": "Hra3BMoSFSAp"
   },
   "source": [
    "Answer:"
   ]
  },
  {
   "cell_type": "code",
   "execution_count": null,
   "metadata": {
    "id": "ygXVIZftChbD"
   },
   "outputs": [],
   "source": [
    "# \"i\" is an \"int\". It correspond to the index of each values inside the list \"names\"\n",
    "# \"val\" is a \"str\". It corresponds to the values of the elemetns inside the list \"names\"  "
   ]
  },
  {
   "cell_type": "code",
   "execution_count": 2,
   "metadata": {
    "colab": {
     "base_uri": "https://localhost:8080/"
    },
    "id": "OaKBK889C9Q1",
    "outputId": "9aeef8f8-5a89-44b7-ee78-cf175fda799d"
   },
   "outputs": [
    {
     "name": "stdout",
     "output_type": "stream",
     "text": [
      "0\n",
      "1\n",
      "2\n"
     ]
    }
   ],
   "source": [
    "names = [\"Fredy\", \"Nicolas\", \"Alexandre\"]\n",
    "\n",
    "for val, i in enumerate(names):\n",
    "  print(val)\n"
   ]
  },
  {
   "cell_type": "markdown",
   "metadata": {
    "id": "YhhuOPblDIqq"
   },
   "source": [
    "3. This time, `i` returns first names and `val` returns numbers. Why is it so?"
   ]
  },
  {
   "cell_type": "markdown",
   "metadata": {
    "id": "RamzW6BxFTBL"
   },
   "source": [
    "Answer:"
   ]
  },
  {
   "cell_type": "code",
   "execution_count": null,
   "metadata": {},
   "outputs": [],
   "source": [
    "# i returnthe index of the lsits\n",
    "# val returns the value of the tuple"
   ]
  },
  {
   "cell_type": "markdown",
   "metadata": {
    "id": "PKGOxIHVDWGW"
   },
   "source": [
    "4. What does the built in function `enumerate` do?\n",
    "In what cases can it be useful?"
   ]
  },
  {
   "cell_type": "markdown",
   "metadata": {
    "id": "wURNpEH8FTrg"
   },
   "source": [
    "Answer:"
   ]
  },
  {
   "cell_type": "code",
   "execution_count": null,
   "metadata": {},
   "outputs": [],
   "source": [
    "# la fonction enumerate() ajoute un compteur à un objet itérable\n",
    "# cette fonction évite l'utilisation de variable supplémentaire pour compter les éléments d'une séquence\n"
   ]
  },
  {
   "cell_type": "markdown",
   "metadata": {
    "id": "pCDLjuMPDk_D"
   },
   "source": [
    "# Mission 2"
   ]
  },
  {
   "cell_type": "code",
   "execution_count": 5,
   "metadata": {
    "colab": {
     "base_uri": "https://localhost:8080/"
    },
    "id": "OUicSHpGDHQB",
    "outputId": "67138953-4ef3-4c34-b6a5-94a6b5fb84b4"
   },
   "outputs": [
    {
     "data": {
      "text/plain": [
       "['Hi', 'my', 'name', 'is', 'hi', 'my', 'name', 'is', 'Marshall']"
      ]
     },
     "execution_count": 5,
     "metadata": {},
     "output_type": "execute_result"
    }
   ],
   "source": [
    "test_list = ['Hi', 'my', 'name', 'is', \"hi\", \"my\",\"name\", \"is\", \"chickychicky\"]\n",
    "\n",
    "test_list[8] = \"Marshall\"\n",
    "\n",
    "test_list"
   ]
  },
  {
   "cell_type": "markdown",
   "metadata": {
    "id": "5vU7vFyJFjf_"
   },
   "source": [
    "1. What does the 8 in square brackets mean?  \n",
    "What action has been performed?"
   ]
  },
  {
   "cell_type": "markdown",
   "metadata": {
    "id": "fgf3N7i_Fr52"
   },
   "source": [
    "Answer:"
   ]
  },
  {
   "cell_type": "code",
   "execution_count": null,
   "metadata": {
    "id": "JZVPh9XuFfOD"
   },
   "outputs": [],
   "source": [
    "# it means that an element will be inserted at teh eight position in the list\n",
    "# element \"marshall\" has replaced element \"chickychicky\""
   ]
  },
  {
   "cell_type": "code",
   "execution_count": 7,
   "metadata": {
    "colab": {
     "base_uri": "https://localhost:8080/"
    },
    "id": "wIPAn8qH-qwW",
    "outputId": "ecf9d552-9f51-4cff-9b23-a2330ef8f39e"
   },
   "outputs": [
    {
     "name": "stdout",
     "output_type": "stream",
     "text": [
      "Hi\n",
      "my\n",
      "name\n",
      "is\n"
     ]
    }
   ],
   "source": [
    "test_list = ['Hi', 'my', 'name', 'is', \"hi\", \"my\",\"name\", \"is\", \"chickychicky\"]\n",
    "\n",
    "for i in range(4):\n",
    "  print(test_list[i])"
   ]
  },
  {
   "cell_type": "markdown",
   "metadata": {
    "id": "BVh-q0nmGHhB"
   },
   "source": [
    "2. What does `range(4)` mean?  \n",
    "Why are only the first 4 elements of `test_list` displayed?"
   ]
  },
  {
   "cell_type": "markdown",
   "metadata": {
    "id": "l2mfg-LtIZD1"
   },
   "source": [
    "Answer:"
   ]
  },
  {
   "cell_type": "code",
   "execution_count": null,
   "metadata": {
    "id": "FcgJYEnxFwZJ"
   },
   "outputs": [],
   "source": [
    "# range(4) means that the 4 first elements are concerned by the loop\n",
    "# because this is the result of the range(4) instruction "
   ]
  },
  {
   "cell_type": "code",
   "execution_count": 8,
   "metadata": {
    "colab": {
     "base_uri": "https://localhost:8080/"
    },
    "id": "JS77sJmx-1QN",
    "outputId": "1fbdd126-2687-487e-99b5-0561bb90c444"
   },
   "outputs": [
    {
     "name": "stdout",
     "output_type": "stream",
     "text": [
      "name\n",
      "hi\n",
      "name\n"
     ]
    }
   ],
   "source": [
    "test_list = ['Hi', 'my', 'name', 'is', \"hi\", \"my\",\"name\", \"is\", \"chickychicky\"]\n",
    "\n",
    "for i in range(2, 8, 2):\n",
    "  print(test_list[i])\n",
    "\n"
   ]
  },
  {
   "cell_type": "markdown",
   "metadata": {
    "id": "VO83ul-zGvFY"
   },
   "source": [
    "3. What does `range(2,8,2)` mean ?  \n",
    "Why are only the elements 'name', 'hi' and 'name' displayed?"
   ]
  },
  {
   "cell_type": "code",
   "execution_count": null,
   "metadata": {},
   "outputs": [],
   "source": [
    "#  range (2, 8, 2) means that loop will go through the range from 2 until 8 with a step of 2\n",
    "# it is because the last index is exclued (8) and we have a step of 2, so the last index is the 6th ==> \"name\""
   ]
  },
  {
   "cell_type": "markdown",
   "metadata": {
    "id": "IFp2-uyVIaPS"
   },
   "source": [
    "Answer:"
   ]
  },
  {
   "cell_type": "markdown",
   "metadata": {
    "id": "VUR6EDHmHAbn"
   },
   "source": [
    "# Mission 3"
   ]
  },
  {
   "cell_type": "code",
   "execution_count": null,
   "metadata": {
    "colab": {
     "base_uri": "https://localhost:8080/"
    },
    "id": "DsNTsY3iGecu",
    "outputId": "263c9ddc-f2ef-44c2-d074-5264b23a5732"
   },
   "outputs": [
    {
     "data": {
      "text/plain": [
       "[2, 3, 1, 5, 9, 10, 11, 12, 13, 14]"
      ]
     },
     "execution_count": 29,
     "metadata": {},
     "output_type": "execute_result"
    }
   ],
   "source": [
    "numbers = [2,3,1,5,9]\n",
    "\n",
    "for i in range(10,15):\n",
    "  numbers.append(i)\n",
    "\n",
    "numbers"
   ]
  },
  {
   "cell_type": "markdown",
   "metadata": {
    "id": "QsekBYrWHwQR"
   },
   "source": [
    "1. What does `range(10,15)` mean ?  \n",
    "  What is the purpose of the method `append()` ?\n",
    "\n",
    "  "
   ]
  },
  {
   "cell_type": "markdown",
   "metadata": {
    "id": "JT4kKPPWIczy"
   },
   "source": [
    "Answer:"
   ]
  },
  {
   "cell_type": "code",
   "execution_count": null,
   "metadata": {
    "id": "Ca5Mj5riHvAt"
   },
   "outputs": [],
   "source": [
    "# range(10, 15) means that elements from 10 until 14 (15 is exclued) will be inserted at the end of the list, because of the .append method\n",
    "# .append method can insert one or multiples elements at the end of a list. no need to insert them one by one"
   ]
  },
  {
   "cell_type": "markdown",
   "metadata": {
    "id": "v23Vk1pcIGM0"
   },
   "source": [
    "2. What is the purpose of the `del` command?"
   ]
  },
  {
   "cell_type": "markdown",
   "metadata": {
    "id": "N4xgFRi4IFfr"
   },
   "source": [
    "Answer:"
   ]
  },
  {
   "cell_type": "code",
   "execution_count": null,
   "metadata": {},
   "outputs": [],
   "source": [
    "# del command will be used if we ant to delete a element from then list\n",
    "# we will target the index inside the list ==> syntax : del list[3]"
   ]
  },
  {
   "cell_type": "markdown",
   "metadata": {
    "id": "Kfh_ZpPVIi2i"
   },
   "source": [
    "# Mission 4"
   ]
  },
  {
   "cell_type": "code",
   "execution_count": 10,
   "metadata": {
    "colab": {
     "base_uri": "https://localhost:8080/"
    },
    "id": "VOe2C7USID1Y",
    "outputId": "acc85d89-998e-4679-9c96-7064060e34f0"
   },
   "outputs": [
    {
     "data": {
      "text/plain": [
       "6"
      ]
     },
     "execution_count": 10,
     "metadata": {},
     "output_type": "execute_result"
    }
   ],
   "source": [
    "import random\n",
    "\n",
    "random.randint(0,10)"
   ]
  },
  {
   "cell_type": "markdown",
   "metadata": {
    "id": "XlwR6lHYJRK0"
   },
   "source": [
    "1. What can the method `randint()` do ?"
   ]
  },
  {
   "cell_type": "markdown",
   "metadata": {
    "id": "RhahQkQgJhA0"
   },
   "source": [
    "Answer:"
   ]
  },
  {
   "cell_type": "code",
   "execution_count": null,
   "metadata": {
    "id": "dBEHENePJKF_"
   },
   "outputs": [],
   "source": [
    "# random.randint method returns randomly an integer number selected element from the specified range.\n",
    "# this method is an alias for randrange(start, stop+1)"
   ]
  },
  {
   "cell_type": "markdown",
   "metadata": {
    "id": "jnrvSzWOJ0ro"
   },
   "source": [
    "2. What can the method `.insert()` do ?  \n",
    "You must answer using the terms 'parameter' and 'argument'."
   ]
  },
  {
   "cell_type": "markdown",
   "metadata": {
    "id": "F1s_PSgTKYMO"
   },
   "source": [
    "Answer:"
   ]
  },
  {
   "cell_type": "code",
   "execution_count": null,
   "metadata": {},
   "outputs": [],
   "source": [
    "# .insert method inserts the specified value at the specified position\n",
    "# syntax : list.insert(2 , \"bernard\")\n",
    "# this method takes two parameters :\n",
    "    # index: the position where the element needs to be inserted\n",
    "    # argument: this is the element to be inserted in the list"
   ]
  },
  {
   "cell_type": "markdown",
   "metadata": {
    "id": "05RWlwppKZfA"
   },
   "source": [
    "# Mission 5"
   ]
  },
  {
   "cell_type": "code",
   "execution_count": 2,
   "metadata": {
    "colab": {
     "base_uri": "https://localhost:8080/",
     "height": 35
    },
    "id": "N7uoWox_KPRW",
    "outputId": "953485e9-ef9b-4843-ffad-a149de99b608"
   },
   "outputs": [
    {
     "name": "stdout",
     "output_type": "stream",
     "text": [
      "Hi my name is hi my name is chickychicky\n",
      "<class 'str'>\n"
     ]
    }
   ],
   "source": [
    "test_list = ['Hi', 'my', 'name', 'is', \"hi\", \"my\",\"name\", \"is\", \"chickychicky\"]\n",
    "\n",
    "test_list = \" \".join(test_list)\n",
    "\n",
    "print(test_list)\n",
    "print(type(test_list))"
   ]
  },
  {
   "cell_type": "markdown",
   "metadata": {
    "id": "dRXmNBFSLRnv"
   },
   "source": [
    "1. What can the `.join()` method do?  \n",
    "What is the type of `test_list` before using `.join()`?  \n",
    "What is the type of `test_list` after using `.join()`?"
   ]
  },
  {
   "cell_type": "markdown",
   "metadata": {
    "id": "0-5Ci6OiXxZ8"
   },
   "source": [
    "Answer:"
   ]
  },
  {
   "cell_type": "code",
   "execution_count": null,
   "metadata": {},
   "outputs": [],
   "source": [
    "# .join method is about to return joined elements from a list without comas\n",
    "# before using .join method the sequence is a list\n",
    "# after using the .join method the sequence is a str"
   ]
  },
  {
   "cell_type": "code",
   "execution_count": 9,
   "metadata": {
    "id": "kesRy9ZrLFFF"
   },
   "outputs": [
    {
     "data": {
      "text/plain": [
       "['Noël',\n",
       " \"c'est\",\n",
       " 'bien,',\n",
       " 'mais',\n",
       " 'attention',\n",
       " 'à',\n",
       " 'ne',\n",
       " 'pas',\n",
       " 'manger',\n",
       " 'trop',\n",
       " 'de',\n",
       " 'chocolat.',\n",
       " 'On',\n",
       " 'le',\n",
       " 'sait,',\n",
       " 'mais',\n",
       " 'on',\n",
       " 'le',\n",
       " 'fais',\n",
       " 'à',\n",
       " 'chaque',\n",
       " 'fois.',\n",
       " \"C'est\",\n",
       " 'la',\n",
       " 'vie']"
      ]
     },
     "execution_count": 9,
     "metadata": {},
     "output_type": "execute_result"
    }
   ],
   "source": [
    "christmas = \"Noël c'est bien, mais attention à ne pas manger trop de chocolat. On le sait, mais on le fais à chaque fois. C'est la vie\"\n",
    "\n",
    "christmas.split()\n"
   ]
  },
  {
   "cell_type": "markdown",
   "metadata": {
    "id": "seiR7Cp5MgMA"
   },
   "source": [
    "2. What can the `.split()` method do?  \n",
    "What is the type of `christmas` before using `.split()`?  \n",
    "What is the type of `christmas` after using `.split()`?"
   ]
  },
  {
   "cell_type": "markdown",
   "metadata": {
    "id": "LrUVxQJFXvwG"
   },
   "source": [
    "Answer:"
   ]
  },
  {
   "cell_type": "code",
   "execution_count": 19,
   "metadata": {},
   "outputs": [],
   "source": [
    "# .split method allows to slice each elements of a sequence\n",
    "# before using the .split method, the sequence christmas is a str\n",
    "# after using the .split method, the sequence christmas became a list"
   ]
  },
  {
   "cell_type": "code",
   "execution_count": 13,
   "metadata": {
    "id": "Ta5-JE99MV7F"
   },
   "outputs": [
    {
     "data": {
      "text/plain": [
       "[\"Noël c'est bien, mais attention \",\n",
       " ' ne pas manger trop de chocolat. On le sait, mais on le fait ',\n",
       " \" chaque fois. C'est la vie\"]"
      ]
     },
     "execution_count": 13,
     "metadata": {},
     "output_type": "execute_result"
    }
   ],
   "source": [
    "christmas = \"Noël c'est bien, mais attention à ne pas manger trop de chocolat. On le sait, mais on le fait à chaque fois. C'est la vie\"\n",
    "\n",
    "\n",
    "christmas.split(\"à\")"
   ]
  },
  {
   "cell_type": "markdown",
   "metadata": {
    "id": "hfyAmMrONAWj"
   },
   "source": [
    "3. Why does the `.split()` method split the `string` into 3 elements?"
   ]
  },
  {
   "cell_type": "markdown",
   "metadata": {
    "id": "Oe7KBC_tXtma"
   },
   "source": [
    "Answer:"
   ]
  },
  {
   "cell_type": "code",
   "execution_count": null,
   "metadata": {},
   "outputs": [],
   "source": [
    "# because the instruction to cut the string in 3 was said using (\"à\") "
   ]
  }
 ],
 "metadata": {
  "colab": {
   "provenance": []
  },
  "kernelspec": {
   "display_name": "Python 3",
   "name": "python3"
  },
  "language_info": {
   "codemirror_mode": {
    "name": "ipython",
    "version": 3
   },
   "file_extension": ".py",
   "mimetype": "text/x-python",
   "name": "python",
   "nbconvert_exporter": "python",
   "pygments_lexer": "ipython3",
   "version": "3.11.9"
  }
 },
 "nbformat": 4,
 "nbformat_minor": 0
}
