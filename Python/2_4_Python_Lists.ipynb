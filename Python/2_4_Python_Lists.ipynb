{
 "cells": [
  {
   "cell_type": "markdown",
   "metadata": {
    "id": "1LeJKHt8Hd9O"
   },
   "source": [
    "**Preliminary note:** sometimes, the challenge tells you to do something that is incompatible with some input (for instance, you ask for a position but the user enters some text, or an invalid number).\n",
    "\n",
    "Here you can assume that all user input goes according to plan (the \"happy path\"). If you want an extra **optional** challenge, feel free to manage possible error cases!"
   ]
  },
  {
   "cell_type": "markdown",
   "metadata": {
    "id": "LoJw-LlCTnWF"
   },
   "source": [
    "# Mission 1\n",
    "\n",
    "Define a list, then display only the elements (and their position) that have even positions (0, 2, 4, 6...).\n",
    "\n",
    "With `test_list = [\"a\", \"b\", \"c\", \"d\", \"e\"]`, the script should display:\n",
    "```\n",
    "a at position 0\n",
    "c at position 2\n",
    "e at position 4\n",
    "```"
   ]
  },
  {
   "cell_type": "code",
   "execution_count": null,
   "metadata": {
    "id": "C2Lk113KSPUO"
   },
   "outputs": [
    {
     "name": "stdout",
     "output_type": "stream",
     "text": [
      "a at position 0\n",
      "c at position 2\n",
      "e at position 4\n",
      "g at position 6\n"
     ]
    }
   ],
   "source": [
    "test_list = [\"a\", \"b\", \"c\", \"d\", \"e\", \"f\", \"g\"]\n",
    "\n",
    "for loop in range (0, len(test_list), 2):                # \n",
    "    print(test_list[loop], \"at position\", loop)           # test_list[loop] ==> je vais chercher la valeur correspondant à l'index\n",
    "\n",
    "\n",
    "\n",
    "\n",
    "\n"
   ]
  },
  {
   "cell_type": "markdown",
   "metadata": {
    "id": "J3bsGIvAT049"
   },
   "source": [
    "# Mission 2\n",
    "\n",
    "Define a list, then **ask** for a position, then for a string. Then replace the list element at that position by the given string, and display the resulting list.\n",
    "\n",
    "For example, with the list `test_list2 = ['hello', 'good morning', 'bye bye', 'have a good day']`, the position `2` and the string `yeah`, you should display:\n",
    "```\n",
    "['hello', 'good morning', 'yeah', 'have a good day']\n",
    "```"
   ]
  },
  {
   "cell_type": "code",
   "execution_count": 22,
   "metadata": {},
   "outputs": [
    {
     "name": "stdout",
     "output_type": "stream",
     "text": [
      "['hello', 'good morning', 'bonjour', 'have a good day']\n"
     ]
    }
   ],
   "source": [
    "test_list2 = ['hello', 'good morning', 'bye bye', 'have a good day']\n",
    "\n",
    "position = int(input(\"insere un nombre\"))\n",
    "\n",
    "mon_str = input(\"insere un mot\")\n",
    "\n",
    "test_list2[position-1]= mon_str\n",
    "print(test_list2)\n",
    "\n",
    "\n",
    "\n"
   ]
  },
  {
   "cell_type": "markdown",
   "metadata": {
    "id": "dVl36lvlWLdV"
   },
   "source": [
    "# Mission 3\n",
    "\n",
    "Define a list with five numbers, then ask the user for a number. Put the number at the end of the list, remove the first element from the list, and finally display the list.\n",
    "\n",
    "For example, with the list `test_list3 = [1, 9, 6, 15, 4]` and the input `7`, you should display:\n",
    "```\n",
    "[9, 6, 15, 4, 7]\n",
    "```\n"
   ]
  },
  {
   "cell_type": "code",
   "execution_count": 1,
   "metadata": {
    "id": "pN3_mD4YSPfb"
   },
   "outputs": [
    {
     "name": "stdout",
     "output_type": "stream",
     "text": [
      "3\n",
      "[34, 4, 65, 45, 3]\n"
     ]
    }
   ],
   "source": [
    "my_list = [12, 34, 4, 65, 45]                       # list to define\n",
    "\n",
    "user_entry = int(input(\"Please insert a number\"))   # ask for user entry ==> number\n",
    "print(user_entry)                                   # display user entry\n",
    "\n",
    "my_list.append(user_entry)                          # user entry add to the end of the list with .append method\n",
    "\n",
    "del my_list[0]                                      # deletion of the 1st number of the list\n",
    "\n",
    "print(my_list)                                      # display final list"
   ]
  },
  {
   "cell_type": "markdown",
   "metadata": {
    "id": "GCvpkWzXXPTf"
   },
   "source": [
    "# Mission 4\n",
    "\n",
    "Define a list, then ask the user for a string. Then, insert the string in the list at a random position, and display the resulting list.\n",
    "\n",
    "For example, with the list `test_list4 = [\"p\", \"y\", \"t\", \"h\", \"o\"]` and the input `n`, you *might* get:\n",
    "```\n",
    "[\"p\", \"n\", \"y\", \"t\", \"h\", \"o\"]\n",
    "```\n",
    "... but you might also get:\n",
    "```\n",
    "[\"p\", \"y\", \"t\", \"n\", \"h\", \"o\"]\n",
    "```\n"
   ]
  },
  {
   "cell_type": "code",
   "execution_count": 6,
   "metadata": {},
   "outputs": [
    {
     "name": "stdout",
     "output_type": "stream",
     "text": [
      "['MArseille', 'p', 'y', 't', 'h', 'o']\n"
     ]
    }
   ],
   "source": [
    "test_list4 = [\"p\", \"y\", \"t\", \"h\", \"o\"]\n",
    "string1 = input(\"choisis un mot\")\n",
    "                \n",
    "#Compter les éléments de ma liste :\n",
    "num_ele_liste = len(test_list4)\n",
    "\n",
    "#Générer un nombre aléatoire :\n",
    "import random\n",
    "nombre_aleatoire = random.randint(0, num_ele_liste)\n",
    "\n",
    "#Insérer un mot\n",
    "test_list4.insert(nombre_aleatoire, string1)\n",
    "\n",
    "print(test_list4)"
   ]
  },
  {
   "cell_type": "code",
   "execution_count": 41,
   "metadata": {},
   "outputs": [
    {
     "data": {
      "text/plain": [
       "3"
      ]
     },
     "execution_count": 41,
     "metadata": {},
     "output_type": "execute_result"
    }
   ],
   "source": [
    "import random\n",
    "random.randint (0,10)"
   ]
  },
  {
   "cell_type": "markdown",
   "metadata": {
    "id": "Ygonr8C4pEgg"
   },
   "source": [
    "# Mission 5\n",
    "\n",
    "Create a list of integers. Then, display a list with the elements ordered from smallest to largest, using the right built-in function.\n",
    "\n",
    "With the list `test_list5 = [3, 4, 0, -1, 35, 7]`, this will display:\n",
    "```\n",
    "[-1, 0, 3, 4, 7, 35]\n",
    "```"
   ]
  },
  {
   "cell_type": "code",
   "execution_count": 31,
   "metadata": {
    "id": "KYW-riV7K3DA"
   },
   "outputs": [
    {
     "name": "stdout",
     "output_type": "stream",
     "text": [
      "[3, 5, 9, 10, 12, 31, 45, 47, 48, 67, 98]\n"
     ]
    }
   ],
   "source": [
    "integer_list = [12, 31, 45, 3, 67, 98, 47, 5, 9, 10, 48]    # integer list to define\n",
    "integer_list.sort()                                         # create new list to apply .sort method on initial list  \n",
    "print(integer_list)                                         # display initial list sorted by minimum to maximum"
   ]
  },
  {
   "cell_type": "markdown",
   "metadata": {
    "id": "V8ZS3aECXvuZ"
   },
   "source": [
    "# Mission 6\n",
    "\n",
    "Ask the user for a string, convert it to a list of characters with the `list` function, then ask for a single character.\n",
    "\n",
    "Remove the first occurrence of the character from the list, then display how many occurrences of the character remain in the list.\n",
    "\n",
    "For instance if you enter `\"Excellent work\"` then the letter `\"e\"`, it will display:\n",
    "```\n",
    "There are still 2 copies of e in the list\n",
    "```"
   ]
  },
  {
   "cell_type": "code",
   "execution_count": 2,
   "metadata": {
    "id": "dlRdqxco5r8U"
   },
   "outputs": [
    {
     "name": "stdout",
     "output_type": "stream",
     "text": [
      "aurelien\n",
      "['a', 'u', 'r', 'e', 'l', 'i', 'e', 'n']\n",
      "e\n",
      "['a', 'u', 'r', 'l', 'i', 'e', 'n']\n",
      "le nombre de \"e\" dans la liste est de 1\n"
     ]
    }
   ],
   "source": [
    "compteur = 0                                                # instanciation of counter\n",
    "\n",
    "user_entry = input(\"Please enter what you have in mind\")    # user entry ==> wword       \n",
    "print(user_entry)\n",
    "\n",
    "list = [char for char in user_entry]                        # conversion in list of the user entry\n",
    "print(list)\n",
    "\n",
    "user_char_entry = input(\"Please enter a single character\")  # user entry for a single character\n",
    "print(user_char_entry)\n",
    "\n",
    "list.remove(user_char_entry)                                            # removing of the 1st occurence of letter \"e\" with .remove method\n",
    "print(list)\n",
    "\n",
    "for char in list:                                           # for loop to go through the list and counting how much letter \"e\" left in the list\n",
    "    if user_char_entry == char:\n",
    "        compteur += 1\n",
    "print(f'le nombre de \"e\" dans la liste est de {compteur}' )\n"
   ]
  },
  {
   "cell_type": "markdown",
   "metadata": {
    "id": "geMLdrvAYHKx"
   },
   "source": [
    "# Mission 7\n",
    "\n",
    "Define three lists containing no duplicates. Then, indicate (however you like) the two that have the most elements in common (or all three if there's a tie).\n",
    "\n",
    "For instance, with:\n",
    "```\n",
    "list_a = [1, 2, 4, 8, 16, 32]\n",
    "list_b = [1, 2, 3, 5, 8, 13]\n",
    "list_c = [2, 3, 5, 7, 11, 13]\n",
    "```\n",
    "It may display:\n",
    "```\n",
    "Lists B and C have the most common elements!\n",
    "```"
   ]
  },
  {
   "cell_type": "code",
   "execution_count": 22,
   "metadata": {},
   "outputs": [
    {
     "name": "stdout",
     "output_type": "stream",
     "text": [
      " le resultat du compteur_a_b est 3\n",
      " le resultat du compteur_b_c est 0\n",
      " le resultat du compteur_c_a est 2\n",
      "3 est le maximum de nombre en commun entre deux listes\n",
      "la liste a et b ont le plus d'éléments en commun {compteur_a_b}\n"
     ]
    }
   ],
   "source": [
    "# définir trois listes \n",
    "list_a = [1, 2, 3, 4, 5]\n",
    "list_b = [5, 1, 3, 9, 10]\n",
    "list_c = [11, 2, 4, 14, 15]\n",
    "\n",
    "# définir trios compteurs, chaque compteur compare deux listes entre elles\n",
    "compteur_a_b = 0\n",
    "compteur_b_c = 0\n",
    "compteur_c_a = 0\n",
    "\n",
    "\n",
    "# trois boucles pour comparer les listes a et b; b et c; c et a\n",
    "for ele in range(0, len(list_a)):\n",
    "    if list_a [ele] in list_b:\n",
    "            compteur_a_b += 1\n",
    "            # print(compteur_1)\n",
    "print(f' le resultat du compteur_a_b est {compteur_a_b}')\n",
    "\n",
    "for ele in range(0, len(list_b)):\n",
    "    if list_b [ele] in list_c:\n",
    "            compteur_b_c += 1\n",
    "            # print(compteur_2)\n",
    "print(f' le resultat du compteur_b_c est {compteur_b_c}')\n",
    "\n",
    "for ele in range(0, len(list_c)):\n",
    "    if list_c [ele] in list_a:\n",
    "            compteur_c_a += 1\n",
    "            # print(compteur_3)\n",
    "print(f' le resultat du compteur_c_a est {compteur_c_a}')\n",
    "\n",
    "\n",
    "# il faut créer une variable avec la fonction SUM afin de déterminer lequel des trois compteurs est le plus élevé\n",
    "maxi = max(compteur_a_b, compteur_b_c, compteur_c_a)\n",
    "print(f'{maxi} est le maximum de nombre en commun entre deux listes')\n",
    "\n",
    "\n",
    "# il faut créer une condition sur les compteurs en les comparant à la variable max\n",
    "if maxi == compteur_a_b:\n",
    "      print(\"la liste a et b ont le plus d'éléments en commun {compteur_a_b}\")\n",
    "elif maxi == compteur_b_c:\n",
    "      print(\"la liste b et c ont le plus d'éléments en commun {compteur_b_c}\")\n",
    "elif maxi == compteur_c_a:\n",
    "      print(\"la liste c et a ont le plus d'éléments en commun {compteur_c_a}\")\n",
    "\n"
   ]
  },
  {
   "cell_type": "code",
   "execution_count": null,
   "metadata": {},
   "outputs": [],
   "source": []
  }
 ],
 "metadata": {
  "colab": {
   "provenance": []
  },
  "kernelspec": {
   "display_name": "Python 3",
   "name": "python3"
  },
  "language_info": {
   "codemirror_mode": {
    "name": "ipython",
    "version": 3
   },
   "file_extension": ".py",
   "mimetype": "text/x-python",
   "name": "python",
   "nbconvert_exporter": "python",
   "pygments_lexer": "ipython3",
   "version": "3.11.9"
  }
 },
 "nbformat": 4,
 "nbformat_minor": 0
}
