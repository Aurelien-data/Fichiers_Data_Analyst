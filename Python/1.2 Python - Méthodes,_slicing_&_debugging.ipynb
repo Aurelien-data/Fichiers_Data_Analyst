{
 "cells": [
  {
   "cell_type": "markdown",
   "metadata": {
    "id": "2fIBM1WeK8hQ"
   },
   "source": [
    "# Méthodes"
   ]
  },
  {
   "cell_type": "markdown",
   "metadata": {
    "id": "wHK61RAvsWqf"
   },
   "source": [
    "## `String`"
   ]
  },
  {
   "cell_type": "markdown",
   "metadata": {
    "id": "5pQ3lO0VA8pv"
   },
   "source": [
    "1.1 Utilisez une [méthode](https://runestone.academy/ns/books/published/py4e-int/strings/methods.html) Python qui permet de supprimer les espaces au début et à la fin du `string`suivant:"
   ]
  },
  {
   "cell_type": "code",
   "execution_count": 7,
   "metadata": {
    "id": "Ndbz2h4JAmIJ"
   },
   "outputs": [
    {
     "name": "stdout",
     "output_type": "stream",
     "text": [
      "Hello  World\n"
     ]
    }
   ],
   "source": [
    "greeting = \" Hello  World    \"\n",
    "print(greeting.strip()) # la méthode .strip permet de supprimer les espaces au début et à la fin du \"str\" "
   ]
  },
  {
   "cell_type": "markdown",
   "metadata": {
    "id": "Gq9puPLsGR4_"
   },
   "source": [
    "1.2 Utilisez une méthode Python qui permet de mettre en majuscules le `string` suivant:"
   ]
  },
  {
   "cell_type": "code",
   "execution_count": 2,
   "metadata": {
    "id": "VUPVZk9IBLXJ"
   },
   "outputs": [
    {
     "name": "stdout",
     "output_type": "stream",
     "text": [
      "HI DENIS ! LOOK AT ME, I'M A VAMPIRE !\n"
     ]
    }
   ],
   "source": [
    "greeting_message = \"Hi Denis ! Look at me, I'm a Vampire !\"\n",
    "print(greeting_message.upper()) # la méthode .upper permet de mettre l'ensemble des caractères du str en majuscules"
   ]
  },
  {
   "cell_type": "markdown",
   "metadata": {
    "id": "6KFS546UHhT5"
   },
   "source": [
    "1.3 Remplacez les caractères \"f\" par \"n\", et \"v\" par \"t\":"
   ]
  },
  {
   "cell_type": "code",
   "execution_count": 149,
   "metadata": {
    "id": "jd6J6v84HJCd"
   },
   "outputs": [
    {
     "data": {
      "text/plain": [
       "\"C'est une bonne situation scribe ?\""
      ]
     },
     "execution_count": 149,
     "metadata": {},
     "output_type": "execute_result"
    }
   ],
   "source": [
    "question = \"C'est une boffe situavion scribe ?\"\n",
    "\n",
    "question.replace(\"f\", \"n\").replace(\"v\" , \"t\") # la méthode .replace permet de remplacer des caractères dans un str, (old, new)\n",
    "\n",
    "\n"
   ]
  },
  {
   "cell_type": "markdown",
   "metadata": {
    "id": "7fwx_-DuC9Eh"
   },
   "source": [
    "# Slicing"
   ]
  },
  {
   "cell_type": "markdown",
   "metadata": {
    "id": "rBikvZkAC99G"
   },
   "source": [
    "2.1 Maintenant, récupérez la première lettre du `string` suivant:"
   ]
  },
  {
   "cell_type": "code",
   "execution_count": 31,
   "metadata": {
    "id": "OstzYvLSDCTK"
   },
   "outputs": [
    {
     "name": "stdout",
     "output_type": "stream",
     "text": [
      "H\n"
     ]
    }
   ],
   "source": [
    "greeting = \"Hello World\"\n",
    "print(greeting[0]) # sequence[index] permet de récupérer un caractère dans un str"
   ]
  },
  {
   "cell_type": "markdown",
   "metadata": {
    "id": "f69qj_X_DHkn"
   },
   "source": [
    "2.2 Récupérez le premier élément de la `liste` suivante:"
   ]
  },
  {
   "cell_type": "code",
   "execution_count": 46,
   "metadata": {
    "id": "-Y1AkD0vDKoO"
   },
   "outputs": [
    {
     "name": "stdout",
     "output_type": "stream",
     "text": [
      "mintcream\n"
     ]
    }
   ],
   "source": [
    "colors = [\"mintcream\", \"burlywood\", \"salmon\"]\n",
    "print(colors[0]) # sequence[index] permet de récupérer un élément dans une liste"
   ]
  },
  {
   "cell_type": "markdown",
   "metadata": {
    "id": "yyccxp7WDNTX"
   },
   "source": [
    "2.3 Récupérez le premier élément du tuple suivant:"
   ]
  },
  {
   "cell_type": "code",
   "execution_count": 64,
   "metadata": {
    "id": "xNVvDcy_DPyr"
   },
   "outputs": [
    {
     "name": "stdout",
     "output_type": "stream",
     "text": [
      "burlywood\n"
     ]
    }
   ],
   "source": [
    "color_palette = (\"burlywood\", \"salmon\", \"mintcream\")\n",
    "print(color_palette[0]) # sequence[index] permet de récupérer un élément dans un tuple"
   ]
  },
  {
   "cell_type": "markdown",
   "metadata": {
    "id": "MtVLa5ZJDR9K"
   },
   "source": [
    "2.4 Récupérez le premier élément du dict suivant:"
   ]
  },
  {
   "cell_type": "code",
   "execution_count": 1,
   "metadata": {
    "id": "o_LVNAk4DU1p"
   },
   "outputs": [
    {
     "data": {
      "text/plain": [
       "('name', 'Jules César')"
      ]
     },
     "execution_count": 1,
     "metadata": {},
     "output_type": "execute_result"
    }
   ],
   "source": [
    "person_info = {\"name\": \"Jules César\", \"Job\": \"Musician\", \"age\": 55} # type(person_info) ==> dict\n",
    "list(person_info)[0], person_info[list(person_info)[0]] # ici il faut au préalable convertir le dict en liste afin de récupérer l'élément gtace à son [index]"
   ]
  },
  {
   "cell_type": "markdown",
   "metadata": {
    "id": "cz-FT7QIDWnx"
   },
   "source": [
    "\n",
    "Pour un dict, on ne parle pas d'éléments, mais de clés 'keys\" et valeurs \"values\"."
   ]
  },
  {
   "cell_type": "markdown",
   "metadata": {
    "id": "065WT9jhDbFV"
   },
   "source": [
    "2.5 Récupérez la valeur de la clé name:"
   ]
  },
  {
   "cell_type": "code",
   "execution_count": 3,
   "metadata": {
    "id": "Osa85L8cDdRI"
   },
   "outputs": [
    {
     "data": {
      "text/plain": [
       "'Jules César'"
      ]
     },
     "execution_count": 3,
     "metadata": {},
     "output_type": "execute_result"
    }
   ],
   "source": [
    "person_info = {\"name\": \"Jules César\", \"Job\": \"Musician\", \"age\": 55} # c'est un dict\n",
    "person_info[\"name\"] # utilisation de sequence[\"char\"] pourn récupérer la valeur de la clé"
   ]
  },
  {
   "cell_type": "markdown",
   "metadata": {
    "id": "qqaDoItlDdxG"
   },
   "source": [
    "2.6 Récupérez la clé associée à la première valeur:"
   ]
  },
  {
   "cell_type": "code",
   "execution_count": 126,
   "metadata": {
    "id": "tJfcT2h6Dgie"
   },
   "outputs": [
    {
     "data": {
      "text/plain": [
       "'name'"
      ]
     },
     "execution_count": 126,
     "metadata": {},
     "output_type": "execute_result"
    }
   ],
   "source": [
    "person_info = {\"name\": \"Jules César\", \"Job\": \"Musician\", \"age\": 55} \n",
    "list(person_info)[0] # convertir le dict en list afin de récupérer la clé associée à la première valeur list(dict)[0]\n"
   ]
  },
  {
   "cell_type": "markdown",
   "metadata": {
    "id": "tEuqgeI-Dk3N"
   },
   "source": [
    "2.7 Maintenant, récupérez les caractères des indices 2 à 4 ('llo') inclus du string suivant :"
   ]
  },
  {
   "cell_type": "code",
   "execution_count": 137,
   "metadata": {
    "id": "6Hc0Db9dDh_z"
   },
   "outputs": [
    {
     "data": {
      "text/plain": [
       "['l', 'l', 'o']"
      ]
     },
     "execution_count": 137,
     "metadata": {},
     "output_type": "execute_result"
    }
   ],
   "source": [
    "greeting = \"Hello World\"\n",
    "\n",
    "list(greeting)[2 : 5]\n"
   ]
  },
  {
   "cell_type": "code",
   "execution_count": 138,
   "metadata": {},
   "outputs": [
    {
     "data": {
      "text/plain": [
       "'llo'"
      ]
     },
     "execution_count": 138,
     "metadata": {},
     "output_type": "execute_result"
    }
   ],
   "source": [
    "greeting = \"Hello World\"\n",
    "\n",
    "greeting[2 : 5]"
   ]
  },
  {
   "cell_type": "markdown",
   "metadata": {
    "id": "B9SUudviDvVW"
   },
   "source": [
    "2.8 Récupérez les éléments aux indices 2 à 4 inclus [\"salmon\", ..., \"blanchedalmond\"] de la list suivante:"
   ]
  },
  {
   "cell_type": "code",
   "execution_count": 139,
   "metadata": {
    "id": "57U4hW0LDv8A"
   },
   "outputs": [
    {
     "data": {
      "text/plain": [
       "['salmon', 'aliceblue', 'blanchedalmond']"
      ]
     },
     "execution_count": 139,
     "metadata": {},
     "output_type": "execute_result"
    }
   ],
   "source": [
    "color_palette = [\"mintcream\", \"burlywood\", \"salmon\", \"aliceblue\", \"blanchedalmond\", \"cornflowerblue\", \"lavenderblush\"]\n",
    "\n",
    "color_palette[2 : 5]"
   ]
  },
  {
   "cell_type": "markdown",
   "metadata": {
    "id": "CL5q7sJpLC5l"
   },
   "source": [
    "# Code debugging"
   ]
  },
  {
   "cell_type": "markdown",
   "metadata": {
    "id": "tARLcBqkI6UK"
   },
   "source": [
    "3.1 Dans le code ci-dessous, remplacez \"...\" par la syntaxe qui convient pour que la phrase s'affiche en sortie:"
   ]
  },
  {
   "cell_type": "code",
   "execution_count": 8,
   "metadata": {
    "id": "g9i3_Yb-H0fG"
   },
   "outputs": [
    {
     "name": "stdout",
     "output_type": "stream",
     "text": [
      "Yes, apple is a fruit!\n"
     ]
    }
   ],
   "source": [
    "fruits = [\"apple\", \"banana\"]\n",
    "if \"apple\" in fruits:\n",
    "  print(\"Yes, apple is a fruit!\")\n",
    "\n"
   ]
  },
  {
   "cell_type": "markdown",
   "metadata": {
    "id": "54ZgZmseOmA7"
   },
   "source": [
    "3.2 Dans le code ci-dessous, remplacez \"...\" par l'opérateur booléen `or` ou `and` qui convient pour que la phrase s'affiche en sortie:"
   ]
  },
  {
   "cell_type": "code",
   "execution_count": 167,
   "metadata": {
    "id": "mBxDU3GlOno4"
   },
   "outputs": [
    {
     "name": "stdout",
     "output_type": "stream",
     "text": [
      "Here we go !\n"
     ]
    }
   ],
   "source": [
    "if 12 < 5 or 3 == 3:\n",
    "  print(\"Here we go !\")"
   ]
  },
  {
   "cell_type": "markdown",
   "metadata": {
    "id": "IHdB-6tcLLPz"
   },
   "source": [
    "3.3 Modifiez le code ci-dessous pour que la phrase s'affiche."
   ]
  },
  {
   "cell_type": "code",
   "execution_count": 11,
   "metadata": {
    "id": "ysiWc9tUImsc"
   },
   "outputs": [
    {
     "name": "stdout",
     "output_type": "stream",
     "text": [
      "Of course kiwi starts with a 'k'\n"
     ]
    }
   ],
   "source": [
    "if \"kiwi\".startswith(\"k\"):\n",
    "  print(\"Of course kiwi starts with a 'k'\")\n",
    "\n"
   ]
  },
  {
   "cell_type": "markdown",
   "metadata": {
    "id": "o2_gf_VmLveE"
   },
   "source": [
    "3.4 Modifiez le code ci-dessous pour que la phrase s'affiche.  \n",
    "Vous n'avez le droit que de modifier l'emplacement des variables `count_1`, `count_2` et `count_3`.  \n",
    "Aussi, vous pouvez ajoutez des parenthèses pour créer une exception aux priorités opératoires."
   ]
  },
  {
   "cell_type": "code",
   "execution_count": 5,
   "metadata": {
    "id": "qx6t1A4ULlgB"
   },
   "outputs": [
    {
     "name": "stdout",
     "output_type": "stream",
     "text": [
      "You can call me 'The MasterMath'.\n"
     ]
    }
   ],
   "source": [
    "count_1 = 12\n",
    "count_2 = 4\n",
    "count_3 = 2\n",
    "\n",
    "if (count_1 + count_2) / count_3 == 8:\n",
    "  print(\"You can call me 'The MasterMath'.\")"
   ]
  },
  {
   "cell_type": "markdown",
   "metadata": {
    "id": "swkZ_qKytmHQ"
   },
   "source": [
    "3.5 Vous allez maintenant vous familiariser avec la division euclidienne.  \n",
    "Il y a ici deux termes à connaître:\n",
    "* Le reste\n",
    "* Le quotient  \n",
    "\n",
    "Faites vos recherches pour être à l'aise avec ces termes.\n",
    "\n",
    "Aussi, faites vos recherches pour savoir quel symbole permet d'afficher le reste ou le quotient, en python.  \n",
    "\n",
    "Une fois que c'est fait, vous pouvez faire l'exercice suivant :  \n",
    "Parmi ses variables, lesquels ont une valeur divisible par 2, donc un reste égale à 0 ?\n",
    "\n",
    "Pour répondre, vous allez devoir tester chacune des variable, et remplacer \"...\" par le symbole qui convient."
   ]
  },
  {
   "cell_type": "code",
   "execution_count": 19,
   "metadata": {
    "id": "gvWHafdntbeC"
   },
   "outputs": [
    {
     "name": "stdout",
     "output_type": "stream",
     "text": [
      "On s'exerce ici avec la division euclidienne. Le reste de 14 divisé par 2 est égale à 0.\n"
     ]
    }
   ],
   "source": [
    "count_1 = 3\n",
    "count_2 = 6\n",
    "count_3 = 7\n",
    "count_4 = 14\n",
    "count_5 = 12\n",
    "\n",
    "\n",
    "if count_4 % 2 == 0:\n",
    "  print(f\"On s'exerce ici avec la division euclidienne. Le reste de {count_4} divisé par 2 est égale à 0.\")"
   ]
  },
  {
   "cell_type": "markdown",
   "metadata": {
    "id": "8d1__TwEwHyx"
   },
   "source": [
    "3.6 Cette fois, on veut connaître les variables dont les valeurs ont un quotient supérieur à 5 lorsqu'on divise chaque valeur par 5.\n",
    "\n",
    "Remplacez \"...\" par le code qui convient."
   ]
  },
  {
   "cell_type": "code",
   "execution_count": 14,
   "metadata": {
    "id": "iGAcOPkTuXhh"
   },
   "outputs": [
    {
     "name": "stdout",
     "output_type": "stream",
     "text": [
      "On s'exerce ici avec la division euclidienne. Le quotient de 29 divisé par 5 est égale à 5.\n"
     ]
    }
   ],
   "source": [
    "count_1 = 34\n",
    "count_2 = 37\n",
    "count_3 = 24\n",
    "count_4 = 29\n",
    "count_5 = 31\n",
    "\n",
    "if count_4  // 2 > 5:\n",
    "  print(f\"On s'exerce ici avec la division euclidienne. Le quotient de {count_4} divisé par 5 est égale à {count_4 // 5}.\")"
   ]
  }
 ],
 "metadata": {
  "colab": {
   "provenance": []
  },
  "kernelspec": {
   "display_name": "Python 3",
   "name": "python3"
  },
  "language_info": {
   "codemirror_mode": {
    "name": "ipython",
    "version": 3
   },
   "file_extension": ".py",
   "mimetype": "text/x-python",
   "name": "python",
   "nbconvert_exporter": "python",
   "pygments_lexer": "ipython3",
   "version": "3.11.9"
  }
 },
 "nbformat": 4,
 "nbformat_minor": 0
}
