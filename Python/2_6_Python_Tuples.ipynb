{
  "cells": [
    {
      "cell_type": "markdown",
      "metadata": {
        "id": "LoJw-LlCTnWF"
      },
      "source": [
        "# Mission 1\n",
        "\n",
        "Create a tuple of your choice containing 10 elements in this order:\n",
        "- 3 integers\n",
        "- 3 strings\n",
        "- 2 lists containing 3 items each\n",
        "- 2 dictionaries containing 3 items (3 key/value pairs) each\n"
      ]
    },
    {
      "cell_type": "code",
      "execution_count": 34,
      "metadata": {
        "id": "C2Lk113KSPUO"
      },
      "outputs": [
        {
          "name": "stdout",
          "output_type": "stream",
          "text": [
            "<class 'tuple'>\n"
          ]
        },
        {
          "data": {
            "text/plain": [
              "10"
            ]
          },
          "execution_count": 34,
          "metadata": {},
          "output_type": "execute_result"
        }
      ],
      "source": [
        "my_tuple = (1, 2, 3, \n",
        "            \"je\", \"suis\", \"aurelien\",\n",
        "            [4, 5, 6],\n",
        "            [7, 8, 9],\n",
        "            {\"prenom\": \"Aurélien\",\n",
        "             \"nom\": \"Prat\",\n",
        "             \"age\": 40},\n",
        "             {\"ville\": \"Merignac\",\n",
        "              \"profession\": \"wilder\",\n",
        "              \"objectif\": \"data analyst\"})\n",
        "print(type(my_tuple))\n",
        "\n",
        "len(my_tuple)"
      ]
    },
    {
      "cell_type": "markdown",
      "metadata": {
        "id": "cPQRTT3q6GB1"
      },
      "source": [
        "Now, access the second-to-last item in the second list."
      ]
    },
    {
      "cell_type": "code",
      "execution_count": 4,
      "metadata": {
        "id": "V9LKho6U6HM8"
      },
      "outputs": [
        {
          "name": "stdout",
          "output_type": "stream",
          "text": [
            "[8]\n"
          ]
        }
      ],
      "source": [
        "my_tuple = (1, 2, 3, \n",
        "            \"je\", \"suis\", \"aurelien\",\n",
        "            [4, 5, 6],\n",
        "            [7, 8, 9],\n",
        "            {\"prenom\": \"Aurélien\",\n",
        "             \"nom\": \"Prat\",\n",
        "             \"age\": 40},\n",
        "             {\"ville\": \"Merignac\",\n",
        "              \"profession\": \"wilder\",\n",
        "              \"objectif\": \"data analyst\"})\n",
        "\n",
        "\n",
        "print(my_tuple[7][1:2])\n"
      ]
    },
    {
      "cell_type": "markdown",
      "metadata": {
        "id": "HGoGFI9qxuzW"
      },
      "source": [
        "# Mission 2\n",
        "\n",
        "In the same tuple, access the last 4 elements using slicing."
      ]
    },
    {
      "cell_type": "code",
      "execution_count": 51,
      "metadata": {
        "id": "qk097m4Zx4mR"
      },
      "outputs": [
        {
          "name": "stdout",
          "output_type": "stream",
          "text": [
            "([4, 5, 6], [7, 8, 9], {'prenom': 'Aurélien', 'nom': 'Prat', 'age': 40}, {'ville': 'Merignac', 'profession': 'wilder', 'objectif': 'data analyst'})\n"
          ]
        }
      ],
      "source": [
        "my_tuple = (1, 2, 3, \n",
        "            \"je\", \"suis\", \"aurelien\",\n",
        "            [4, 5, 6],\n",
        "            [7, 8, 9],\n",
        "            {\"prenom\": \"Aurélien\",\n",
        "             \"nom\": \"Prat\",\n",
        "             \"age\": 40},\n",
        "             {\"ville\": \"Merignac\",\n",
        "              \"profession\": \"wilder\",\n",
        "              \"objectif\": \"data analyst\"})\n",
        "\n",
        "print(my_tuple[6:10])           # affichage des 4 derniers elements du tuple ==> 2 listes et 2 dict"
      ]
    },
    {
      "cell_type": "markdown",
      "metadata": {
        "id": "iVHJFx3Px8mY"
      },
      "source": [
        "# Mission 3\n",
        "\n",
        "Change the value of the 4th element (the first string) of your tuple (since tuples are immutable, this means recreating a tuple where this element is changed)."
      ]
    },
    {
      "cell_type": "code",
      "execution_count": 53,
      "metadata": {
        "id": "op3qyirV7tGZ"
      },
      "outputs": [
        {
          "name": "stdout",
          "output_type": "stream",
          "text": [
            "[1, 2, 3, 'je', 'suis', 'aurelien', [4, 5, 6], [7, 8, 9], {'prenom': 'Aurélien', 'nom': 'Prat', 'age': 40}, {'ville': 'Merignac', 'profession': 'wilder', 'objectif': 'data analyst'}]\n",
            "[1, 2, 3, 'moi', 'suis', 'aurelien', [4, 5, 6], [7, 8, 9], {'prenom': 'Aurélien', 'nom': 'Prat', 'age': 40}, {'ville': 'Merignac', 'profession': 'wilder', 'objectif': 'data analyst'}]\n",
            "(1, 2, 3, 'moi', 'suis', 'aurelien', [4, 5, 6], [7, 8, 9], {'prenom': 'Aurélien', 'nom': 'Prat', 'age': 40}, {'ville': 'Merignac', 'profession': 'wilder', 'objectif': 'data analyst'})\n"
          ]
        }
      ],
      "source": [
        "my_tuple = (1, 2, 3, \n",
        "            \"je\", \"suis\", \"aurelien\",\n",
        "            [4, 5, 6],\n",
        "            [7, 8, 9],\n",
        "            {\"prenom\": \"Aurélien\",\n",
        "             \"nom\": \"Prat\",\n",
        "             \"age\": 40},\n",
        "             {\"ville\": \"Merignac\",\n",
        "              \"profession\": \"wilder\",\n",
        "              \"objectif\": \"data analyst\"})\n",
        "\n",
        "\n",
        "my_list = [element for element in my_tuple]             # convertir le tuple en liste : compréhension de liste\n",
        "print(my_list)\n",
        "\n",
        "my_list[3] = \"moi\"                                      # modifier le str converné ==> on slice avec l'index de la liste \n",
        "print(my_list)\n",
        "\n",
        "my_tuple = tuple(my_list)                               # convertir la lsite modifiée en tuple ==> assignation de la classe tuple a la liste\n",
        "print(my_tuple)\n",
        "\n",
        "\n"
      ]
    },
    {
      "cell_type": "markdown",
      "metadata": {
        "id": "Wp3_jhWS2Foi"
      },
      "source": [
        "# Mission 4\n",
        "\n",
        "Create 2 tuples of the same length that contain only integers.\n",
        "\n",
        "Then create a script that compares the sum of their elements and displays the tuple that has the highest total."
      ]
    },
    {
      "cell_type": "code",
      "execution_count": 5,
      "metadata": {
        "id": "dGMYxaMWx8RO"
      },
      "outputs": [
        {
          "name": "stdout",
          "output_type": "stream",
          "text": [
            "La somme du tuple_1 est de 215. Elle est plus élevée que la somme du tuple_2, qui est de 130.\n"
          ]
        }
      ],
      "source": [
        "tuple_1 = (100, 20, 30, 40, 25)\n",
        "tuple_2 = (20, 30, 60, 5, 15)\n",
        "\n",
        "# print(sum(tuple_1))\n",
        "# print(sum(tuple_2))\n",
        "\n",
        "# print(sum(tuple_1) < sum(tuple_2))              # le tuple_2 a la somme la plus élevée\n",
        "\n",
        "\n",
        "if sum(tuple_2) > sum(tuple_1):                 \n",
        "    print(f'La somme du tuple_2 est de {sum(tuple_2)}. Elle est plus élevée que la somme du tuple_1, qui est de {sum(tuple_1)}.')\n",
        "elif sum(tuple_1) > sum(tuple_2):\n",
        "    print(f'La somme du tuple_1 est de {sum(tuple_1)}. Elle est plus élevée que la somme du tuple_2, qui est de {sum(tuple_2)}.')\n",
        "\n"
      ]
    },
    {
      "cell_type": "markdown",
      "metadata": {
        "id": "Zmk8uviVzPBZ"
      },
      "source": [
        "# Mission 5\n",
        "\n",
        "Here's a tuple:\n",
        "\n",
        "`my_tuple = (\"data analyst\", \"data scientist\", \"data engineer\", \"data architect\")`\n",
        "\n",
        "Ask the user for a string, then for an integer position. Create an altered copy of `my_tuple` where the element at the given position is now the given string."
      ]
    },
    {
      "cell_type": "code",
      "execution_count": 41,
      "metadata": {
        "id": "0o-MuRyZ1_7u"
      },
      "outputs": [
        {
          "name": "stdout",
          "output_type": "stream",
          "text": [
            "Aurelien\n",
            "3\n",
            "['data nanlsyt', 'data scientist', 'data engineer', 'dagta architect']\n",
            "['data nanlsyt', 'data scientist', 'Aurelien', 'data engineer', 'dagta architect']\n",
            "('data nanlsyt', 'data scientist', 'Aurelien', 'data engineer', 'dagta architect')\n"
          ]
        }
      ],
      "source": [
        "first_user_input = input(\"Please insert a word\")            # premier input user\n",
        "print(first_user_input)\n",
        "\n",
        "second_user_input = int(input(\"Please insert a position\"))  # second input user\n",
        "print(second_user_input)\n",
        "\n",
        "my_tuple = (\"data nanlsyt\", \"data scientist\",               # instanciation du tuple initial\n",
        "            \"data engineer\", \"dagta architect\")\n",
        "\n",
        "my_list = list(my_tuple)                                    # conversion du tuple en liste pour modification\n",
        "print(my_list)\n",
        "\n",
        "my_list.insert(second_user_input - 1, first_user_input)     # insertion de int user input a la position 3 ==> -1 car position != index\n",
        "print(my_list)\n",
        "\n",
        "my_tuple = tuple(my_list)                                   # conversion de la liste modifée en tuple \n",
        "print(my_tuple)                                             # affichage final\n"
      ]
    }
  ],
  "metadata": {
    "colab": {
      "provenance": []
    },
    "kernelspec": {
      "display_name": "Python 3",
      "name": "python3"
    },
    "language_info": {
      "codemirror_mode": {
        "name": "ipython",
        "version": 3
      },
      "file_extension": ".py",
      "mimetype": "text/x-python",
      "name": "python",
      "nbconvert_exporter": "python",
      "pygments_lexer": "ipython3",
      "version": "3.11.9"
    }
  },
  "nbformat": 4,
  "nbformat_minor": 0
}
