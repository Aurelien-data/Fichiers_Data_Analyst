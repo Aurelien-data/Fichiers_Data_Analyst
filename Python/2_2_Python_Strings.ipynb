{
  "cells": [
    {
      "cell_type": "markdown",
      "metadata": {
        "id": "Y-fEMIDQ3Vwg"
      },
      "source": [
        "# Mission 1"
      ]
    },
    {
      "cell_type": "markdown",
      "metadata": {
        "id": "wruMhTKTx-_T"
      },
      "source": [
        "What's the lenght of the following string ?"
      ]
    },
    {
      "cell_type": "code",
      "execution_count": 3,
      "metadata": {
        "id": "oweHYwlm1EVo"
      },
      "outputs": [
        {
          "name": "stdout",
          "output_type": "stream",
          "text": [
            "98\n"
          ]
        }
      ],
      "source": [
        "s = \"Taumata whakatangihanga koauau o tamatea turi pukaka piki maungah oronuku pokai whenuaki tanatahu \"\n",
        "s_new = len(s)                  # utilisatiàn de la fonction len() pour compter le nombre de caractère de la séquence \"s\" via une nouvelle séquence\n",
        "print(s_new)"
      ]
    },
    {
      "cell_type": "markdown",
      "metadata": {
        "id": "5dmVxxN_j4Dh"
      },
      "source": [
        "Now, count only non-space characters and display how many there is.\n",
        "Remember, using a for loop on a string will browse all the individual characters of it!"
      ]
    },
    {
      "cell_type": "code",
      "execution_count": 3,
      "metadata": {
        "id": "ze_3CDrJx9re"
      },
      "outputs": [
        {
          "name": "stdout",
          "output_type": "stream",
          "text": [
            "85\n"
          ]
        }
      ],
      "source": [
        "s = \"Taumata whakatangihanga koauau o tamatea turi pukaka piki maungah oronuku pokai whenuaki tanatahu \"\n",
        "# utilisation de la méthode .count() sur la séquence \"s\" \n",
        "\n",
        "compteur = 0\n",
        "\n",
        "for lettre in s:\n",
        "    if lettre != \" \":\n",
        "        compteur += 1\n",
        "print(compteur)    \n"
      ]
    },
    {
      "cell_type": "markdown",
      "metadata": {
        "id": "2BSzzT3_DDOK"
      },
      "source": [
        "# Mission 2\n",
        "\n",
        "Ask the user for a string, then for a character (we assume user input follows the rules). Then, display the positions, **starting with 1**, of all occurrences of the character within the string.\n",
        "\n",
        "For example, for the word \"welcome\" and for the character \"e\", the script will display:\n",
        "```\n",
        "position: 2\n",
        "position: 7\n",
        "```"
      ]
    },
    {
      "cell_type": "code",
      "execution_count": 1,
      "metadata": {
        "id": "9H0Zc9cewZCS"
      },
      "outputs": [
        {
          "name": "stdout",
          "output_type": "stream",
          "text": [
            "position : 4\n",
            "position : 7\n"
          ]
        }
      ],
      "source": [
        "user_entry = input()                            # demander une entrée utilisateur ==> une sequence\n",
        "char = input()                                  # demander une entrée utilisateur ==> une lettre dans cette séquence\n",
        "\n",
        "# boucle pour parcourir la variable\n",
        "for position in range(len(user_entry)):         # cherche moi la position dans le range de la variable user_entry ==> de (0, longueur variable)\n",
        "\n",
        "    if user_entry [position] == char:           # condition : si dans la variable l'index (position) est égal à la lettre recherché (char)\n",
        "\n",
        "\n",
        "        print(f\"position : {position + 1}\")     # affiche: la position + 1 ==> le +1 est nécessaire car le 1er index d'une lsite est égal à 0    \n",
        "\n",
        "\n",
        "\n",
        "\n",
        "\n"
      ]
    },
    {
      "cell_type": "markdown",
      "metadata": {
        "id": "pLZi_mgzFvMP"
      },
      "source": [
        "# Mission 3\n",
        "\n",
        "Ask the user for a string, then for an integer. Then, display the string repeated as many times as the given integer.\n",
        "\n",
        "For example, `badger` and `4` will display `badgerbadgerbadgerbadger`"
      ]
    },
    {
      "cell_type": "code",
      "execution_count": 13,
      "metadata": {
        "id": "CYWu-AM3OSRG"
      },
      "outputs": [
        {
          "name": "stdout",
          "output_type": "stream",
          "text": [
            "aurelienaurelienaurelienaurelien\n"
          ]
        }
      ],
      "source": [
        "ask_1 = input(\"choose a word\")            # demander au user une entrée sour forme de str, insérer un mot\n",
        "ask_2 = input(\"choose a number\")          # demander au user une entrée sous forme de str, insérer un nombre\n",
        "print(ask_1 * ask_2)                      # affichage de la multiplication des deux variables ==> opérateur *"
      ]
    },
    {
      "cell_type": "markdown",
      "metadata": {
        "id": "GCvpkWzXXPTf"
      },
      "source": [
        "# Mission 4\n",
        "\n",
        "Display the following string without including the spaces at the beginning and end. There's a `string` method that does exactly that, look at the documentation!"
      ]
    },
    {
      "cell_type": "code",
      "execution_count": 15,
      "metadata": {
        "id": "KZT8AIPF0ery"
      },
      "outputs": [
        {
          "name": "stdout",
          "output_type": "stream",
          "text": [
            "   Data Analyst  \n"
          ]
        }
      ],
      "source": [
        "sequence = \"   Data Analyst  \"\n",
        "sequence.strip()\n",
        "print(sequence)\n"
      ]
    },
    {
      "cell_type": "markdown",
      "metadata": {
        "id": "geMLdrvAYHKx"
      },
      "source": [
        "# Mission 5\n",
        "\n",
        "Ask the user for a string, then for a character, then for another character.\n",
        "\n",
        "Then, display the string where the occurences of the first character are replaced by the second one.  \n",
        "For example:\n",
        "* string = `\"Boulgour\"`  \n",
        "* 1st_char = `\"g\"`\n",
        "* 2nd_char = `\"v\"`\n",
        "\n",
        "Result : `\"Boulvour\"`"
      ]
    },
    {
      "cell_type": "code",
      "execution_count": 17,
      "metadata": {
        "id": "gGvK4X49OW0g"
      },
      "outputs": [
        {
          "name": "stdout",
          "output_type": "stream",
          "text": [
            "aurelien\n",
            "e\n",
            "z\n",
            "aurzlizn\n"
          ]
        }
      ],
      "source": [
        "ask_1 = input(\"write a sentence\")              # demander une entrée user ==> une sequence\n",
        "print(ask_1)\n",
        "\n",
        "ask_2 = input(\"insert a character\")            # demander une entrée user ==> un caractere de cette sequence\n",
        "print(ask_2)\n",
        "\n",
        "ask_3 = input(\"insert another character\")      # demander une entrée au user ==> un nouveau caractère non présent dans la séquence précédente \n",
        "print(ask_3)\n",
        "\n",
        "answer = ask_1.replace(ask_2 , ask_3)           # utilisation de la méthode .replace ==> elle fonctionne avec des variables\n",
        "print(answer)"
      ]
    },
    {
      "cell_type": "markdown",
      "metadata": {
        "id": "V8ZS3aECXvuZ"
      },
      "source": [
        "# Mission 6\n",
        "\n",
        "Ask the user for a string. Then, display the same string with all vowels converted to uppercase, and all consonants converted to lowercase.  \n",
        "For example:\n",
        "* string = `\"Papa's got a brand new bag\"`  \n",
        "Result : `\"pApA's gOt A brAnd nEw bAg\"`\n"
      ]
    },
    {
      "cell_type": "code",
      "execution_count": 21,
      "metadata": {
        "id": "1ZyvW4vDy8J5"
      },
      "outputs": [
        {
          "name": "stdout",
          "output_type": "stream",
          "text": [
            "AUrElIEn\n"
          ]
        }
      ],
      "source": [
        "entree_user = input()                                           # entrée utilisateur\n",
        "\n",
        "for char in entree_user:                                        # boucle for : je recherche les caracteres dans la variable entree_user\n",
        "    if char in \"aeiuoy\":                                        # condition : si il y a un char dans \"aeiouy\"\n",
        "        entree_user = entree_user.replace(char, char.upper())   # action : utilisation de la methode .upper\n",
        "print(entree_user)                                              # affichage\n",
        "\n",
        "\n"
      ]
    }
  ],
  "metadata": {
    "colab": {
      "provenance": []
    },
    "kernelspec": {
      "display_name": "Python 3",
      "name": "python3"
    },
    "language_info": {
      "codemirror_mode": {
        "name": "ipython",
        "version": 3
      },
      "file_extension": ".py",
      "mimetype": "text/x-python",
      "name": "python",
      "nbconvert_exporter": "python",
      "pygments_lexer": "ipython3",
      "version": "3.11.9"
    }
  },
  "nbformat": 4,
  "nbformat_minor": 0
}
