{
  "cells": [
    {
      "cell_type": "markdown",
      "id": "ojRTTTo5KcUO",
      "metadata": {
        "id": "ojRTTTo5KcUO"
      },
      "source": [
        "# Partie 1 : Création du module, développement des fonctions, importation et tests du module."
      ]
    },
    {
      "cell_type": "markdown",
      "id": "e1x1tQSLK-vG",
      "metadata": {
        "id": "e1x1tQSLK-vG"
      },
      "source": [
        "## Étape 1 : Créez votre module `data_utils.py`\n",
        "\n",
        "1.   Créez un fichier data_utils.py sur votre ordinateur en utilisant un éditeur de texte (comme Notepad, VS Code, ou autre). **C'est tout à fait possible aussi en utilisant Google collab, en mettant tout votre code dans une cellule de code et en le téléchargant avec l'extension `.py`.**\n",
        "\n",
        "2.   Dans ce fichier, ajoutez les variables et fonctions suivantes :\n",
        "- Variables : `PI`, `E` (nombre d'Euler)\n",
        "- Fonctions : `carre(x)`, `cube(x)`, `factorielle(n)`, `valeur_absolue(x)`, `maximum(liste)`, `minimum(liste)`, `moyenne(liste)`, `ecart_type(liste)`, `mediane(liste)`\n",
        "\n",
        "3. Enregistrez le fichier et assurez-vous qu'il est bien nommé data_utils.py."
      ]
    },
    {
      "cell_type": "markdown",
      "id": "I3FsIh2oIkdz",
      "metadata": {
        "id": "I3FsIh2oIkdz"
      },
      "source": [
        "## Étape 2 : Importez votre module sur Google Colab\n",
        "Ouvrez un nouveau notebook Google Colab.\n",
        "\n",
        "Téléversez votre fichier `data_utils.py` dans le notebook en utilisant l'option \"Importer un fichier\" dans Colab ou en utilisant les lignes de code suivantes :"
      ]
    },
    {
      "cell_type": "code",
      "execution_count": 3,
      "id": "bOLnOccgJOKW",
      "metadata": {
        "colab": {
          "base_uri": "https://localhost:8080/",
          "height": 264
        },
        "id": "bOLnOccgJOKW",
        "outputId": "f89b1e5f-4075-4735-85df-94f9da0c12b8"
      },
      "outputs": [
        {
          "data": {
            "text/html": [
              "\n",
              "     <input type=\"file\" id=\"files-8e6faa75-ea7d-47d2-b14b-96a4ddfac7ae\" name=\"files[]\" multiple disabled\n",
              "        style=\"border:none\" />\n",
              "     <output id=\"result-8e6faa75-ea7d-47d2-b14b-96a4ddfac7ae\">\n",
              "      Upload widget is only available when the cell has been executed in the\n",
              "      current browser session. Please rerun this cell to enable.\n",
              "      </output>\n",
              "      <script>// Copyright 2017 Google LLC\n",
              "//\n",
              "// Licensed under the Apache License, Version 2.0 (the \"License\");\n",
              "// you may not use this file except in compliance with the License.\n",
              "// You may obtain a copy of the License at\n",
              "//\n",
              "//      http://www.apache.org/licenses/LICENSE-2.0\n",
              "//\n",
              "// Unless required by applicable law or agreed to in writing, software\n",
              "// distributed under the License is distributed on an \"AS IS\" BASIS,\n",
              "// WITHOUT WARRANTIES OR CONDITIONS OF ANY KIND, either express or implied.\n",
              "// See the License for the specific language governing permissions and\n",
              "// limitations under the License.\n",
              "\n",
              "/**\n",
              " * @fileoverview Helpers for google.colab Python module.\n",
              " */\n",
              "(function(scope) {\n",
              "function span(text, styleAttributes = {}) {\n",
              "  const element = document.createElement('span');\n",
              "  element.textContent = text;\n",
              "  for (const key of Object.keys(styleAttributes)) {\n",
              "    element.style[key] = styleAttributes[key];\n",
              "  }\n",
              "  return element;\n",
              "}\n",
              "\n",
              "// Max number of bytes which will be uploaded at a time.\n",
              "const MAX_PAYLOAD_SIZE = 100 * 1024;\n",
              "\n",
              "function _uploadFiles(inputId, outputId) {\n",
              "  const steps = uploadFilesStep(inputId, outputId);\n",
              "  const outputElement = document.getElementById(outputId);\n",
              "  // Cache steps on the outputElement to make it available for the next call\n",
              "  // to uploadFilesContinue from Python.\n",
              "  outputElement.steps = steps;\n",
              "\n",
              "  return _uploadFilesContinue(outputId);\n",
              "}\n",
              "\n",
              "// This is roughly an async generator (not supported in the browser yet),\n",
              "// where there are multiple asynchronous steps and the Python side is going\n",
              "// to poll for completion of each step.\n",
              "// This uses a Promise to block the python side on completion of each step,\n",
              "// then passes the result of the previous step as the input to the next step.\n",
              "function _uploadFilesContinue(outputId) {\n",
              "  const outputElement = document.getElementById(outputId);\n",
              "  const steps = outputElement.steps;\n",
              "\n",
              "  const next = steps.next(outputElement.lastPromiseValue);\n",
              "  return Promise.resolve(next.value.promise).then((value) => {\n",
              "    // Cache the last promise value to make it available to the next\n",
              "    // step of the generator.\n",
              "    outputElement.lastPromiseValue = value;\n",
              "    return next.value.response;\n",
              "  });\n",
              "}\n",
              "\n",
              "/**\n",
              " * Generator function which is called between each async step of the upload\n",
              " * process.\n",
              " * @param {string} inputId Element ID of the input file picker element.\n",
              " * @param {string} outputId Element ID of the output display.\n",
              " * @return {!Iterable<!Object>} Iterable of next steps.\n",
              " */\n",
              "function* uploadFilesStep(inputId, outputId) {\n",
              "  const inputElement = document.getElementById(inputId);\n",
              "  inputElement.disabled = false;\n",
              "\n",
              "  const outputElement = document.getElementById(outputId);\n",
              "  outputElement.innerHTML = '';\n",
              "\n",
              "  const pickedPromise = new Promise((resolve) => {\n",
              "    inputElement.addEventListener('change', (e) => {\n",
              "      resolve(e.target.files);\n",
              "    });\n",
              "  });\n",
              "\n",
              "  const cancel = document.createElement('button');\n",
              "  inputElement.parentElement.appendChild(cancel);\n",
              "  cancel.textContent = 'Cancel upload';\n",
              "  const cancelPromise = new Promise((resolve) => {\n",
              "    cancel.onclick = () => {\n",
              "      resolve(null);\n",
              "    };\n",
              "  });\n",
              "\n",
              "  // Wait for the user to pick the files.\n",
              "  const files = yield {\n",
              "    promise: Promise.race([pickedPromise, cancelPromise]),\n",
              "    response: {\n",
              "      action: 'starting',\n",
              "    }\n",
              "  };\n",
              "\n",
              "  cancel.remove();\n",
              "\n",
              "  // Disable the input element since further picks are not allowed.\n",
              "  inputElement.disabled = true;\n",
              "\n",
              "  if (!files) {\n",
              "    return {\n",
              "      response: {\n",
              "        action: 'complete',\n",
              "      }\n",
              "    };\n",
              "  }\n",
              "\n",
              "  for (const file of files) {\n",
              "    const li = document.createElement('li');\n",
              "    li.append(span(file.name, {fontWeight: 'bold'}));\n",
              "    li.append(span(\n",
              "        `(${file.type || 'n/a'}) - ${file.size} bytes, ` +\n",
              "        `last modified: ${\n",
              "            file.lastModifiedDate ? file.lastModifiedDate.toLocaleDateString() :\n",
              "                                    'n/a'} - `));\n",
              "    const percent = span('0% done');\n",
              "    li.appendChild(percent);\n",
              "\n",
              "    outputElement.appendChild(li);\n",
              "\n",
              "    const fileDataPromise = new Promise((resolve) => {\n",
              "      const reader = new FileReader();\n",
              "      reader.onload = (e) => {\n",
              "        resolve(e.target.result);\n",
              "      };\n",
              "      reader.readAsArrayBuffer(file);\n",
              "    });\n",
              "    // Wait for the data to be ready.\n",
              "    let fileData = yield {\n",
              "      promise: fileDataPromise,\n",
              "      response: {\n",
              "        action: 'continue',\n",
              "      }\n",
              "    };\n",
              "\n",
              "    // Use a chunked sending to avoid message size limits. See b/62115660.\n",
              "    let position = 0;\n",
              "    do {\n",
              "      const length = Math.min(fileData.byteLength - position, MAX_PAYLOAD_SIZE);\n",
              "      const chunk = new Uint8Array(fileData, position, length);\n",
              "      position += length;\n",
              "\n",
              "      const base64 = btoa(String.fromCharCode.apply(null, chunk));\n",
              "      yield {\n",
              "        response: {\n",
              "          action: 'append',\n",
              "          file: file.name,\n",
              "          data: base64,\n",
              "        },\n",
              "      };\n",
              "\n",
              "      let percentDone = fileData.byteLength === 0 ?\n",
              "          100 :\n",
              "          Math.round((position / fileData.byteLength) * 100);\n",
              "      percent.textContent = `${percentDone}% done`;\n",
              "\n",
              "    } while (position < fileData.byteLength);\n",
              "  }\n",
              "\n",
              "  // All done.\n",
              "  yield {\n",
              "    response: {\n",
              "      action: 'complete',\n",
              "    }\n",
              "  };\n",
              "}\n",
              "\n",
              "scope.google = scope.google || {};\n",
              "scope.google.colab = scope.google.colab || {};\n",
              "scope.google.colab._files = {\n",
              "  _uploadFiles,\n",
              "  _uploadFilesContinue,\n",
              "};\n",
              "})(self);\n",
              "</script> "
            ],
            "text/plain": [
              "<IPython.core.display.HTML object>"
            ]
          },
          "metadata": {},
          "output_type": "display_data"
        },
        {
          "name": "stdout",
          "output_type": "stream",
          "text": [
            "Saving data_utils.py to data_utils.py\n"
          ]
        },
        {
          "data": {
            "text/plain": [
              "{'data_utils.py': b\"\\r\\nimport math\\r\\nvar_pi = math.pi\\r\\nvar_e = math.e\\r\\n\\r\\n\\r\\ndef carre(x):\\r\\n    return x ** 2\\r\\n\\r\\n\\r\\n# fonction qui calcule le cube d'un nombre\\r\\n\\r\\n\\r\\ndef cube(x):\\r\\n    return x ** 3\\r\\n\\r\\n\\r\\n# fonction qui calcule la factorielle d'un nombre\\r\\n\\r\\n\\r\\ndef factorielle(n):\\r\\n    if n == 0 or n == 1:\\r\\n        return 1\\r\\n    else:\\r\\n        return n * factorielle(n-1)\\r\\n\\r\\n\\r\\n# fonction qui retourne la valeur absolue d'un nombre\\r\\n\\r\\n\\r\\ndef fn_absolute_value(n):\\r\\n    if n < 0:\\r\\n        return - n\\r\\n    else:\\r\\n        return n\\r\\n\\r\\n\\r\\n# fonction qui retourne la valeur maximale d'une liste\\r\\n\\r\\n\\r\\ndef maximum(list_number):\\r\\n    maximum = list_number[0]\\r\\n    for ele in list_number:\\r\\n        if ele > maximum:\\r\\n            maximum = ele\\r\\n    return maximum\\r\\n\\r\\n\\r\\n# fonction qui retourne la valeur minimale d'une liste\\r\\n\\r\\n\\r\\ndef minimum(list_number):\\r\\n    minimum = list_number[0]\\r\\n    for ele in list_number:\\r\\n        if ele < minimum:\\r\\n            minimum = ele\\r\\n    return minimum\\r\\n\\r\\n\\r\\n# fonction qui retourne la moyenne d'une liste\\r\\n\\r\\n\\r\\ndef fn_average(list):\\r\\n    sum = 0\\r\\n    for element in list:\\r\\n        sum += element\\r\\n    return sum / len(list)\\r\\n\\r\\n\\r\\n# fonction qui retourne l'\\xc3\\xa9cart type d'une liste\\r\\n\\r\\n\\r\\ndef ecart_type(liste):\\r\\n    moyenne = (liste)\\r\\n    variance = sum((x - moyenne) ** 2 for x in liste) / len(liste)\\r\\n    return variance ** 0.5\\r\\n\\r\\n\\r\\n# fonction qui retourne la m\\xc3\\xa9diane d'une liste\\r\\n\\r\\n\\r\\ndef mediane(liste):\\r\\n    liste_triee = sorted(liste)\\r\\n    n = len(liste_triee)\\r\\n    if n % 2 == 0:\\r\\n        return (liste_triee[n//2 - 1] + liste_triee[n//2]) / 2\\r\\n    else:\\r\\n        return liste_triee[n//2]\\r\\n\"}"
            ]
          },
          "execution_count": 3,
          "metadata": {},
          "output_type": "execute_result"
        }
      ],
      "source": [
        "from google.colab import files\n",
        "files.upload()"
      ]
    },
    {
      "cell_type": "markdown",
      "id": "_ch-S1EjJR9w",
      "metadata": {
        "id": "_ch-S1EjJR9w"
      },
      "source": [
        "Importez les fonctions dans le module en utilisant la ligne de code :"
      ]
    },
    {
      "cell_type": "code",
      "execution_count": 4,
      "id": "lV0vnVYFJ6WP",
      "metadata": {
        "id": "lV0vnVYFJ6WP"
      },
      "outputs": [],
      "source": [
        "from data_utils import *"
      ]
    },
    {
      "cell_type": "markdown",
      "id": "vFCY6mbDJvwS",
      "metadata": {
        "id": "vFCY6mbDJvwS"
      },
      "source": [
        "## Étape 3 : Testez les fonctions de votre module"
      ]
    },
    {
      "cell_type": "markdown",
      "id": "3804e91f",
      "metadata": {
        "id": "3804e91f"
      },
      "source": [
        "### Test des fonctions basiques du module:\n",
        "\n",
        "Utilisez les fonctions existantes de votre module pour calculer :\n",
        "\n",
        "(carré de 42) + (3 au cube) + (factorielle de 5) / (valeur absolue de -15) - (maximum d'une liste) * (minimum d'une liste)\n",
        "\n",
        "où la liste est [10, 5, 8, 12, 3, 7]."
      ]
    },
    {
      "cell_type": "code",
      "execution_count": 5,
      "id": "NeO3jaLUKGZM",
      "metadata": {
        "colab": {
          "base_uri": "https://localhost:8080/"
        },
        "id": "NeO3jaLUKGZM",
        "outputId": "0066e659-3f1f-409b-babd-d409cac52afd"
      },
      "outputs": [
        {
          "data": {
            "text/plain": [
              "1763.0"
            ]
          },
          "execution_count": 5,
          "metadata": {},
          "output_type": "execute_result"
        }
      ],
      "source": [
        "import data_utils as du\n",
        "du.carre(42) + du.cube(3) + du.factorielle(5) / du.fn_absolute_value(-15) - du.maximum([10, 5, 8, 12, 3, 7]) * du.minimum([10, 5, 8, 12, 3, 7])\n"
      ]
    },
    {
      "cell_type": "markdown",
      "id": "NV5jaSF5QswM",
      "metadata": {
        "id": "NV5jaSF5QswM"
      },
      "source": [
        "\n",
        "\n",
        "---\n",
        "\n",
        "\n",
        "\n",
        "---\n",
        "\n"
      ]
    },
    {
      "cell_type": "markdown",
      "id": "yzzTjW8WKp5K",
      "metadata": {
        "id": "yzzTjW8WKp5K"
      },
      "source": [
        "# Partie 2 : Création d'un nouveau module, développement des fonctions et test de tâches demandées"
      ]
    },
    {
      "cell_type": "markdown",
      "id": "Ub0Y-ym6MRyN",
      "metadata": {
        "id": "Ub0Y-ym6MRyN"
      },
      "source": [
        "#### Pour chaque nouvelle fonction que vous créez, assurez-vous de l'ajouter à votre module `data_utils.py` et de la documenter avec un docstring expliquant son fonctionnement, ses paramètres et sa valeur de retour.\n",
        "\n",
        "\n"
      ]
    },
    {
      "cell_type": "markdown",
      "id": "wkXeYntgLwsF",
      "metadata": {
        "id": "wkXeYntgLwsF"
      },
      "source": [
        "## Etape 1 : Refaites le process qu'on a vu ensemble dans les quêtes et au début du challenge pour créer une nouvelle version du module `data_utils_V2.py` en rajoutant de nouvelles fonctions.\n",
        "\n",
        "\n",
        "*   Création du fichier `data_utils_V2.py`\n",
        "*   Ajout et développement de nouvelles fonctions :\n",
        "  * `somme_cumulee(liste)`: calcule la somme cumulée d'une liste et retourne une liste. Par exemple, pour la liste [1, 2, 3, 4], la somme cumulée serait [1, 3, 6, 10].\n",
        "\n",
        "  * `compter_occurrences(liste)`: retourne un dictionnaire contenant le nombre d'occurrences de chaque élément de la liste. Par exemple, pour la liste [1, 2, 2, 3], le résultat serait {1: 1, 2: 2, 3: 1}.\n",
        "  \n",
        "  * `inverser_dict(dictionnaire)`: inverse les clés et les valeurs d'un dictionnaire. Par exemple, pour le dictionnaire {'a': 1, 'b': 2}, le résultat serait {1: 'a', 2: 'b'}.\n",
        "\n",
        "  * `filtrer_pairs(liste)`: retourne une nouvelle liste contenant uniquement les nombres pairs de la liste d'entrée. Par exemple, pour la liste [1, 2, 3, 4], le résultat serait [2, 4].\n",
        "\n",
        "  * `celsius_to_fahrenheit(celsius)`: convertit une température de Celsius en Fahrenheit et retourne un nombre. Par exemple, pour une température de 0°C, le résultat serait 32°F. *Rappel : la formule est F = (C * 9/5) + 32*\n",
        "\n",
        "  * `trouver_doublons(liste)`: retourne une liste des éléments qui apparaissent plus d'une fois dans la liste d'entrée. Par exemple, pour la liste [1, 2, 2, 3, 3], le résultat serait [2, 3].\n",
        "\n",
        "  * `calculer_moyenne_ponderee(valeurs, poids)`: calcule la moyenne pondérée d'une liste de valeurs avec une liste de poids correspondante et retourne un nombre. Par exemple, pour les valeurs [3, 5] et les poids [1, 2], le résultat serait 4.33.\n",
        "\n",
        "\n",
        "\n"
      ]
    },
    {
      "cell_type": "markdown",
      "id": "Xo_GcVvcPXCc",
      "metadata": {
        "id": "Xo_GcVvcPXCc"
      },
      "source": [
        "## Étape 2 : Importez le module et testez les fonctions de votre module"
      ]
    },
    {
      "cell_type": "markdown",
      "id": "e303fbd6",
      "metadata": {
        "id": "e303fbd6"
      },
      "source": [
        "### Tâche 1: Test de la fonction `somme_cumulee(liste)`\n",
        "\n",
        "Testez cette fonction avec la liste [5, 10, 15, 20, 25]."
      ]
    },
    {
      "cell_type": "code",
      "execution_count": 6,
      "id": "9b1b8d62",
      "metadata": {
        "colab": {
          "base_uri": "https://localhost:8080/",
          "height": 333
        },
        "id": "9b1b8d62",
        "outputId": "c4009b4d-2f4b-4143-a9b5-378a59057a3e"
      },
      "outputs": [
        {
          "data": {
            "text/html": [
              "\n",
              "     <input type=\"file\" id=\"files-b215c302-f6fa-4c23-87d3-9ab6d304139a\" name=\"files[]\" multiple disabled\n",
              "        style=\"border:none\" />\n",
              "     <output id=\"result-b215c302-f6fa-4c23-87d3-9ab6d304139a\">\n",
              "      Upload widget is only available when the cell has been executed in the\n",
              "      current browser session. Please rerun this cell to enable.\n",
              "      </output>\n",
              "      <script>// Copyright 2017 Google LLC\n",
              "//\n",
              "// Licensed under the Apache License, Version 2.0 (the \"License\");\n",
              "// you may not use this file except in compliance with the License.\n",
              "// You may obtain a copy of the License at\n",
              "//\n",
              "//      http://www.apache.org/licenses/LICENSE-2.0\n",
              "//\n",
              "// Unless required by applicable law or agreed to in writing, software\n",
              "// distributed under the License is distributed on an \"AS IS\" BASIS,\n",
              "// WITHOUT WARRANTIES OR CONDITIONS OF ANY KIND, either express or implied.\n",
              "// See the License for the specific language governing permissions and\n",
              "// limitations under the License.\n",
              "\n",
              "/**\n",
              " * @fileoverview Helpers for google.colab Python module.\n",
              " */\n",
              "(function(scope) {\n",
              "function span(text, styleAttributes = {}) {\n",
              "  const element = document.createElement('span');\n",
              "  element.textContent = text;\n",
              "  for (const key of Object.keys(styleAttributes)) {\n",
              "    element.style[key] = styleAttributes[key];\n",
              "  }\n",
              "  return element;\n",
              "}\n",
              "\n",
              "// Max number of bytes which will be uploaded at a time.\n",
              "const MAX_PAYLOAD_SIZE = 100 * 1024;\n",
              "\n",
              "function _uploadFiles(inputId, outputId) {\n",
              "  const steps = uploadFilesStep(inputId, outputId);\n",
              "  const outputElement = document.getElementById(outputId);\n",
              "  // Cache steps on the outputElement to make it available for the next call\n",
              "  // to uploadFilesContinue from Python.\n",
              "  outputElement.steps = steps;\n",
              "\n",
              "  return _uploadFilesContinue(outputId);\n",
              "}\n",
              "\n",
              "// This is roughly an async generator (not supported in the browser yet),\n",
              "// where there are multiple asynchronous steps and the Python side is going\n",
              "// to poll for completion of each step.\n",
              "// This uses a Promise to block the python side on completion of each step,\n",
              "// then passes the result of the previous step as the input to the next step.\n",
              "function _uploadFilesContinue(outputId) {\n",
              "  const outputElement = document.getElementById(outputId);\n",
              "  const steps = outputElement.steps;\n",
              "\n",
              "  const next = steps.next(outputElement.lastPromiseValue);\n",
              "  return Promise.resolve(next.value.promise).then((value) => {\n",
              "    // Cache the last promise value to make it available to the next\n",
              "    // step of the generator.\n",
              "    outputElement.lastPromiseValue = value;\n",
              "    return next.value.response;\n",
              "  });\n",
              "}\n",
              "\n",
              "/**\n",
              " * Generator function which is called between each async step of the upload\n",
              " * process.\n",
              " * @param {string} inputId Element ID of the input file picker element.\n",
              " * @param {string} outputId Element ID of the output display.\n",
              " * @return {!Iterable<!Object>} Iterable of next steps.\n",
              " */\n",
              "function* uploadFilesStep(inputId, outputId) {\n",
              "  const inputElement = document.getElementById(inputId);\n",
              "  inputElement.disabled = false;\n",
              "\n",
              "  const outputElement = document.getElementById(outputId);\n",
              "  outputElement.innerHTML = '';\n",
              "\n",
              "  const pickedPromise = new Promise((resolve) => {\n",
              "    inputElement.addEventListener('change', (e) => {\n",
              "      resolve(e.target.files);\n",
              "    });\n",
              "  });\n",
              "\n",
              "  const cancel = document.createElement('button');\n",
              "  inputElement.parentElement.appendChild(cancel);\n",
              "  cancel.textContent = 'Cancel upload';\n",
              "  const cancelPromise = new Promise((resolve) => {\n",
              "    cancel.onclick = () => {\n",
              "      resolve(null);\n",
              "    };\n",
              "  });\n",
              "\n",
              "  // Wait for the user to pick the files.\n",
              "  const files = yield {\n",
              "    promise: Promise.race([pickedPromise, cancelPromise]),\n",
              "    response: {\n",
              "      action: 'starting',\n",
              "    }\n",
              "  };\n",
              "\n",
              "  cancel.remove();\n",
              "\n",
              "  // Disable the input element since further picks are not allowed.\n",
              "  inputElement.disabled = true;\n",
              "\n",
              "  if (!files) {\n",
              "    return {\n",
              "      response: {\n",
              "        action: 'complete',\n",
              "      }\n",
              "    };\n",
              "  }\n",
              "\n",
              "  for (const file of files) {\n",
              "    const li = document.createElement('li');\n",
              "    li.append(span(file.name, {fontWeight: 'bold'}));\n",
              "    li.append(span(\n",
              "        `(${file.type || 'n/a'}) - ${file.size} bytes, ` +\n",
              "        `last modified: ${\n",
              "            file.lastModifiedDate ? file.lastModifiedDate.toLocaleDateString() :\n",
              "                                    'n/a'} - `));\n",
              "    const percent = span('0% done');\n",
              "    li.appendChild(percent);\n",
              "\n",
              "    outputElement.appendChild(li);\n",
              "\n",
              "    const fileDataPromise = new Promise((resolve) => {\n",
              "      const reader = new FileReader();\n",
              "      reader.onload = (e) => {\n",
              "        resolve(e.target.result);\n",
              "      };\n",
              "      reader.readAsArrayBuffer(file);\n",
              "    });\n",
              "    // Wait for the data to be ready.\n",
              "    let fileData = yield {\n",
              "      promise: fileDataPromise,\n",
              "      response: {\n",
              "        action: 'continue',\n",
              "      }\n",
              "    };\n",
              "\n",
              "    // Use a chunked sending to avoid message size limits. See b/62115660.\n",
              "    let position = 0;\n",
              "    do {\n",
              "      const length = Math.min(fileData.byteLength - position, MAX_PAYLOAD_SIZE);\n",
              "      const chunk = new Uint8Array(fileData, position, length);\n",
              "      position += length;\n",
              "\n",
              "      const base64 = btoa(String.fromCharCode.apply(null, chunk));\n",
              "      yield {\n",
              "        response: {\n",
              "          action: 'append',\n",
              "          file: file.name,\n",
              "          data: base64,\n",
              "        },\n",
              "      };\n",
              "\n",
              "      let percentDone = fileData.byteLength === 0 ?\n",
              "          100 :\n",
              "          Math.round((position / fileData.byteLength) * 100);\n",
              "      percent.textContent = `${percentDone}% done`;\n",
              "\n",
              "    } while (position < fileData.byteLength);\n",
              "  }\n",
              "\n",
              "  // All done.\n",
              "  yield {\n",
              "    response: {\n",
              "      action: 'complete',\n",
              "    }\n",
              "  };\n",
              "}\n",
              "\n",
              "scope.google = scope.google || {};\n",
              "scope.google.colab = scope.google.colab || {};\n",
              "scope.google.colab._files = {\n",
              "  _uploadFiles,\n",
              "  _uploadFilesContinue,\n",
              "};\n",
              "})(self);\n",
              "</script> "
            ],
            "text/plain": [
              "<IPython.core.display.HTML object>"
            ]
          },
          "metadata": {},
          "output_type": "display_data"
        },
        {
          "name": "stdout",
          "output_type": "stream",
          "text": [
            "Saving data_utils_V2.py to data_utils_V2.py\n"
          ]
        },
        {
          "data": {
            "text/plain": [
              "{'data_utils_V2.py': b'# fonction qui calcule la somme cumul\\xc3\\xa9e d\\'une liste et qui retourne une lsite\\r\\n\\r\\n\\r\\ndef somme_calculee(n):\\r\\n    liste = []\\r\\n    compteur = 0\\r\\n    for loop in range(sum(liste)):\\r\\n        compteur += 1\\r\\n    return (compteur)\\r\\n\\r\\n\\r\\nsomme_calculee()\\r\\n\\r\\n\\r\\n# compter occurence d\\'une liste\\r\\n\\r\\n\\r\\ndef compter_occurrences(liste):\\r\\n    liste = []\\r\\n    return {x: liste.count(x) for x in set(liste)}\\r\\n\\r\\n\\r\\ncompter_occurrences()\\r\\n\\r\\n\\r\\n# fonction pour inverser les cl\\xc3\\xa9s et les valeurs d\\'un dictionnaire\\r\\n\\r\\n\\r\\ndef inverser_dict(original_dict):\\r\\n    reversed_dict = {}\\r\\n    for keys, values in original_dict.items():\\r\\n        reversed_dict[values] = keys\\r\\n        original_dict = reversed_dict\\r\\n        return original_dict\\r\\n\\r\\n\\r\\ninverser_dict({\"a\": 1, \"b\": 2, \"c\": 3})\\r\\n\\r\\n\\r\\n# fonction pour filtrer et retourner les valeurs paires d\\'une liste\\r\\n\\r\\n\\r\\ndef liste_paire(liste):\\r\\n    liste_paire = []\\r\\n    for loop in liste:\\r\\n        if loop % 2 == 0:\\r\\n            liste_paire.append(loop)\\r\\n    return liste_paire\\r\\n\\r\\n\\r\\n# fonction qui convertit uen temp\\xc3\\xa9rature celsius en fahrenheit\\r\\n\\r\\n\\r\\ndef celsius_to_fahrenheit(temperature):\\r\\n    temp_fahrenheit = (temperature * (9 / 5)) + 32\\r\\n    return (round(temp_fahrenheit, 2))\\r\\n\\r\\n\\r\\ncelsius_to_fahrenheit(56)\\r\\n\\r\\n\\r\\n# fonction qui trouve et retourne les doublons dans une liste\\r\\n\\r\\n\\r\\ndef fn_trouver_doublons(liste):\\r\\n    liste_vide = []\\r\\n    liste_set = set(liste)\\r\\n    compteur = 0\\r\\n    for ele in liste_set:\\r\\n        for nb in liste:\\r\\n            if ele == nb:\\r\\n                compteur += 1\\r\\n        if compteur > 1:\\r\\n            liste_vide.append(ele)\\r\\n        compteur = 0\\r\\n    return liste_vide\\r\\n\\r\\n\\r\\nfn_trouver_doublons([1, 2, 2, 3, 3, 4, 5, 6, 6, 7])\\r\\n\\r\\n\\r\\n# fonction qui calcule la moyenne pond\\xc3\\xa9r\\xc3\\xa9e d\\'une liste de valeurs\\r\\n# avec une liste de poids correspondanteet retourne un nombre\\r\\n\\r\\n\\r\\ndef fn_moyenne_ponderee(liste_1, liste_2):\\r\\n    if len(liste_1) != len(liste_2):\\r\\n        print(\"les listes ne onft pas la m\\xc3\\xaame longueur\")\\r\\n        liste_2 = input(\"ins\\xc3\\xa8re ta liste ici\")\\r\\n    somme_liste_2 = sum(liste_2)\\r\\n    somme = 0\\r\\n    for loop in range(len(liste_1)):\\r\\n        somme += (liste_1[loop]) * (liste_2[loop])\\r\\n    return (round(somme / somme_liste_2, 2))\\r\\n\\r\\n\\r\\nfn_moyenne_ponderee([12, 23, 34], [23, 65, 14])\\r\\n'}"
            ]
          },
          "execution_count": 6,
          "metadata": {},
          "output_type": "execute_result"
        }
      ],
      "source": [
        "from google.colab import files\n",
        "files.upload()"
      ]
    },
    {
      "cell_type": "markdown",
      "id": "8370062d",
      "metadata": {
        "id": "8370062d"
      },
      "source": [
        "### Tâche 2: Test de la fonction `compter_occurrences(liste)\n",
        "\n",
        "Testez cette fonction avec la liste ['a', 'b', 'a', 'c', 'b', 'a', 'd']."
      ]
    },
    {
      "cell_type": "code",
      "execution_count": 1,
      "id": "6b4a74bd",
      "metadata": {
        "colab": {
          "base_uri": "https://localhost:8080/"
        },
        "id": "6b4a74bd",
        "outputId": "a45afce9-eb78-48e7-c482-83f5de845447"
      },
      "outputs": [
        {
          "data": {
            "text/plain": [
              "{1: 2, 2: 2, 3: 2, 4: 2, 5: 2}"
            ]
          },
          "execution_count": 1,
          "metadata": {},
          "output_type": "execute_result"
        }
      ],
      "source": [
        "def compter_occurrences(liste):\n",
        "    liste = [1, 2, 3, 4, 5, 1, 2, 3, 4, 5]\n",
        "    return {x: liste.count(x) for x in set(liste)}\n",
        "\n",
        "\n",
        "compter_occurrences(1)"
      ]
    },
    {
      "cell_type": "markdown",
      "id": "a0faf5d0",
      "metadata": {
        "id": "a0faf5d0"
      },
      "source": [
        "### Tâche 4: Test de la fonction `inverser_dict(dictionnaire)`\n",
        "\n",
        " Testez cette fonction avec le dictionnaire {'a': 1, 'b': 2, 'c': 3}."
      ]
    },
    {
      "cell_type": "code",
      "execution_count": 24,
      "id": "3ef8df19",
      "metadata": {
        "colab": {
          "base_uri": "https://localhost:8080/"
        },
        "id": "3ef8df19",
        "outputId": "3c4c2c9f-e5b4-44e1-d80d-0636969d4d88"
      },
      "outputs": [
        {
          "data": {
            "text/plain": [
              "{1: 'a', 2: 'b', 3: 'c'}"
            ]
          },
          "execution_count": 24,
          "metadata": {},
          "output_type": "execute_result"
        }
      ],
      "source": [
        "def inverser_dict(original_dict):\n",
        "    reversed_dict = {}\n",
        "    for keys, values in original_dict.items():\n",
        "        reversed_dict[values] = keys\n",
        "        original_dict = reversed_dict\n",
        "    return original_dict\n",
        "\n",
        "\n",
        "inverser_dict({\"a\": 1, \"b\": 2, \"c\": 3})"
      ]
    },
    {
      "cell_type": "markdown",
      "id": "1248f3ee",
      "metadata": {
        "id": "1248f3ee"
      },
      "source": [
        "### Tâche 5: Test de la fonction `filtrer_pairs(liste)`\n",
        "\n",
        "Testez cette fonction avec la liste [1, 2, 3, 4, 5, 6, 7, 8, 9, 10]."
      ]
    },
    {
      "cell_type": "code",
      "execution_count": 15,
      "id": "97a77bba",
      "metadata": {
        "colab": {
          "base_uri": "https://localhost:8080/"
        },
        "id": "97a77bba",
        "outputId": "a083fab9-e3fb-4792-f9a1-b8661261b079"
      },
      "outputs": [
        {
          "data": {
            "text/plain": [
              "[2, 4, 6, 8, 10]"
            ]
          },
          "execution_count": 15,
          "metadata": {},
          "output_type": "execute_result"
        }
      ],
      "source": [
        "def liste_paire(liste):\n",
        "  liste_paire = []\n",
        "  for loop in liste:\n",
        "      if loop % 2 == 0:\n",
        "          liste_paire.append(loop)\n",
        "  return liste_paire\n",
        "\n",
        "\n",
        "liste_paire([1, 2, 3, 4, 5, 6, 7, 8, 9, 10])"
      ]
    },
    {
      "cell_type": "markdown",
      "id": "1a4f448e",
      "metadata": {
        "id": "1a4f448e"
      },
      "source": [
        "### Tâche 6: Test de la fonction `celsius_to_fahrenheit(celsius)`\n",
        "\n",
        "Utilisez cette fonction pour convertir les températures suivantes : 0°C, 20°C, 37°C, 100°C."
      ]
    },
    {
      "cell_type": "code",
      "execution_count": 4,
      "id": "b4fb0382",
      "metadata": {
        "colab": {
          "base_uri": "https://localhost:8080/"
        },
        "id": "b4fb0382",
        "outputId": "6c26e637-2c6f-4401-9f7f-e76fb03d0f72"
      },
      "outputs": [
        {
          "data": {
            "text/plain": [
              "68.0"
            ]
          },
          "execution_count": 4,
          "metadata": {},
          "output_type": "execute_result"
        }
      ],
      "source": [
        "def celsius_to_fahrenheit(temperature):\n",
        "    temp_fahrenheit = (temperature * (9/ 5)) + 32\n",
        "    return (round(temp_fahrenheit, 2))\n",
        "\n",
        "\n",
        "celsius_to_fahrenheit(20)"
      ]
    },
    {
      "cell_type": "markdown",
      "id": "10894fca",
      "metadata": {
        "id": "10894fca"
      },
      "source": [
        "### Tâche 7: Test de la fonction `trouver_doublons(liste)`\n",
        "\n",
        " Testez cette fonction avec la liste [1, 2, 3, 2, 4, 4, 5, 5, 5]."
      ]
    },
    {
      "cell_type": "code",
      "execution_count": 19,
      "id": "8e071f92",
      "metadata": {
        "colab": {
          "base_uri": "https://localhost:8080/"
        },
        "id": "8e071f92",
        "outputId": "61e1e6a2-1d02-4679-b35a-56cdce62b175"
      },
      "outputs": [
        {
          "data": {
            "text/plain": [
              "[2, 4, 5]"
            ]
          },
          "execution_count": 19,
          "metadata": {},
          "output_type": "execute_result"
        }
      ],
      "source": [
        "def fn_trouver_doublons(liste):\n",
        "    liste_vide = []\n",
        "    liste_set = set(liste)\n",
        "    compteur = 0\n",
        "    for ele in liste_set:\n",
        "        for nb in liste:\n",
        "            if ele == nb:\n",
        "                compteur += 1\n",
        "        if compteur > 1:\n",
        "            liste_vide.append(ele)\n",
        "        compteur = 0\n",
        "    return liste_vide\n",
        "\n",
        "\n",
        "fn_trouver_doublons([1, 2, 3, 2, 4, 4, 5, 5, 5])"
      ]
    },
    {
      "cell_type": "markdown",
      "id": "b189426e",
      "metadata": {
        "id": "b189426e"
      },
      "source": [
        "### Tâche 8: Test de la fonction `calculer_moyenne_ponderee(valeurs, poids)`\n",
        "\n",
        "Testez cette fonction avec les listes de valeurs [80, 90, 85, 95] et de poids [0.2, 0.3, 0.3, 0.2]."
      ]
    },
    {
      "cell_type": "code",
      "execution_count": 17,
      "id": "b588497e",
      "metadata": {
        "colab": {
          "base_uri": "https://localhost:8080/"
        },
        "id": "b588497e",
        "outputId": "6a6c1f4c-7849-4a9b-b69a-03f732945dbe"
      },
      "outputs": [
        {
          "data": {
            "text/plain": [
              "87.5"
            ]
          },
          "execution_count": 17,
          "metadata": {},
          "output_type": "execute_result"
        }
      ],
      "source": [
        "def fn_moyenne_ponderee(liste_1, liste_2):\n",
        "    if len(liste_1) != len(liste_2):\n",
        "        print(\"les listes ne onft pas la même longueur\")\n",
        "        liste_2 = input(\"insère ta liste ici\")\n",
        "    somme_liste_2 = sum(liste_2)\n",
        "    somme = 0\n",
        "    for loop in range(len(liste_1)):\n",
        "        somme += (liste_1[loop]) * (liste_2[loop])\n",
        "    return (round(somme / somme_liste_2, 2))\n",
        "\n",
        "\n",
        "fn_moyenne_ponderee([80, 90, 85, 95], [0.2, 0.3, 0.3, 0.2])"
      ]
    },
    {
      "cell_type": "markdown",
      "id": "INpsnQ_RQv6H",
      "metadata": {
        "id": "INpsnQ_RQv6H"
      },
      "source": [
        "\n",
        "\n",
        "---\n",
        "\n",
        "\n",
        "\n",
        "---\n",
        "\n"
      ]
    },
    {
      "cell_type": "markdown",
      "id": "IFoEWpI_Qz80",
      "metadata": {
        "id": "IFoEWpI_Qz80"
      },
      "source": [
        "# Partie Bonus"
      ]
    },
    {
      "cell_type": "markdown",
      "id": "w5UTQAtVMV8T",
      "metadata": {
        "id": "w5UTQAtVMV8T"
      },
      "source": [
        "Créez une fonction `analyser_texte(texte)` qui prend une chaîne de caractères en entrée et retourne un dictionnaire contenant les informations suivantes :\n",
        "\n",
        "- Nombre total de mots\n",
        "- Nombre de caractères (espaces inclus)\n",
        "- Nombre de caractères (espaces exclus)\n",
        "- Mot le plus long\n",
        "- Longueur moyenne des mots\n",
        "\n",
        "Testez cette fonction avec le texte suivant :\n",
        "\"Python est un langage de programmation puissant et facile à apprendre. Il dispose de structures de données de haut niveau efficaces et d'une approche simple mais efficace de la programmation orientée objet.\""
      ]
    }
  ],
  "metadata": {
    "colab": {
      "provenance": []
    },
    "kernelspec": {
      "display_name": "Python 3",
      "name": "python3"
    },
    "language_info": {
      "codemirror_mode": {
        "name": "ipython",
        "version": 3
      },
      "file_extension": ".py",
      "mimetype": "text/x-python",
      "name": "python",
      "nbconvert_exporter": "python",
      "pygments_lexer": "ipython3",
      "version": "3.11.9"
    }
  },
  "nbformat": 4,
  "nbformat_minor": 5
}
