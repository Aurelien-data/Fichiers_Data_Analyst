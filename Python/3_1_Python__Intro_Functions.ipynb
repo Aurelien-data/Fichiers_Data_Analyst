{
 "cells": [
  {
   "cell_type": "markdown",
   "metadata": {
    "id": "wcVz1afOARJ_"
   },
   "source": [
    "# Mission 1"
   ]
  },
  {
   "cell_type": "markdown",
   "metadata": {
    "id": "m5NmUj_rATHM"
   },
   "source": [
    "Create a function that returns the sum of 3 + 3 when executed.  \n",
    "You must use the `return` statement."
   ]
  },
  {
   "cell_type": "code",
   "execution_count": 5,
   "metadata": {},
   "outputs": [
    {
     "data": {
      "text/plain": [
       "6"
      ]
     },
     "execution_count": 5,
     "metadata": {},
     "output_type": "execute_result"
    }
   ],
   "source": [
    "def addition():\n",
    "    return 3 + 3\n",
    "\n",
    "addition()\n"
   ]
  },
  {
   "cell_type": "markdown",
   "metadata": {
    "id": "NTH39Am4EvLo"
   },
   "source": [
    "# Mission 2"
   ]
  },
  {
   "cell_type": "markdown",
   "metadata": {
    "id": "m9q2VGmlC3bI"
   },
   "source": [
    "Create a function that returns the sum of two numbers.  \n",
    "The user of the function must be able to sum two numbers of his choice, when the function is executed.  \n",
    "You must not use `input`.  \n"
   ]
  },
  {
   "cell_type": "code",
   "execution_count": 2,
   "metadata": {},
   "outputs": [
    {
     "data": {
      "text/plain": [
       "122"
      ]
     },
     "execution_count": 2,
     "metadata": {},
     "output_type": "execute_result"
    }
   ],
   "source": [
    "def addition(nb_1, nb_2):\n",
    "    return nb_1 + nb_2\n",
    "\n",
    "addition(24, 98)\n"
   ]
  },
  {
   "cell_type": "markdown",
   "metadata": {
    "id": "o9gEnSiBESZz"
   },
   "source": [
    "Question:   \n",
    "What is a parameter in a function?"
   ]
  },
  {
   "cell_type": "markdown",
   "metadata": {},
   "source": [
    "Parameters are the elements that will be called by the function\n",
    "They are relative to the function itself"
   ]
  },
  {
   "cell_type": "markdown",
   "metadata": {
    "id": "JfvzWKRsE02-"
   },
   "source": [
    "# Mission 3"
   ]
  },
  {
   "cell_type": "markdown",
   "metadata": {
    "id": "A_xh0sExE5Tc"
   },
   "source": [
    "Create a function that returns the sum of two numbers chosen by the user of the function, in a sentence.  \n",
    "For example:  \n",
    "`new_sum_2(3,8)` returns `\"The sum of 3 + 8 is equal to 11.\"`"
   ]
  },
  {
   "cell_type": "code",
   "execution_count": 3,
   "metadata": {},
   "outputs": [
    {
     "name": "stdout",
     "output_type": "stream",
     "text": [
      "the sum of 87 + 123 is equal to 210\n"
     ]
    }
   ],
   "source": [
    "def addition(a,b):\n",
    "    somme = a + b\n",
    "    return print(f'the sum of {a} + {b} is equal to {somme}')\n",
    "\n",
    "addition(87, 123)\n"
   ]
  },
  {
   "cell_type": "markdown",
   "metadata": {
    "id": "2TTBtBSlGVH7"
   },
   "source": [
    "# Mission 4\n",
    "\n",
    "Create a function that returns 2 objects when executed:\n",
    "* An object that will be the product of two numbers chosen by the user of the function.\n",
    "* A word chosen by the user of the function."
   ]
  },
  {
   "cell_type": "code",
   "execution_count": 4,
   "metadata": {},
   "outputs": [
    {
     "data": {
      "text/plain": [
       "(132258, 'aurelien')"
      ]
     },
     "execution_count": 4,
     "metadata": {},
     "output_type": "execute_result"
    }
   ],
   "source": [
    "# multiply \n",
    "def multiply(a, b, c):                  # definir la fonction avec le nombre d'arguments\n",
    "                                        # instruction return ==> ce que doit faire la fonction\n",
    "\n",
    "                                        # affichage du resulat da la variable call qui stocke la fonction\n",
    "\n",
    "    return a * b, c\n",
    "multiply(134, 987, 'aurelien')"
   ]
  },
  {
   "cell_type": "markdown",
   "metadata": {
    "id": "IDsLOssWIiaF"
   },
   "source": [
    "Your result must be two objects that are in brackets.  \n",
    "This is a tuple.\n",
    "\n",
    "Question:  \n",
    "Why is the returned object a tuple that contains two objects?  \n",
    "\n",
    "Answer:\n"
   ]
  },
  {
   "cell_type": "markdown",
   "metadata": {},
   "source": [
    "- because a and b are one parameter, c is the second parameter"
   ]
  },
  {
   "cell_type": "markdown",
   "metadata": {},
   "source": []
  },
  {
   "cell_type": "markdown",
   "metadata": {
    "id": "BFuKSzy5JR4P"
   },
   "source": [
    "# Mission 5\n",
    "\n",
    "Create a function that returns the sum of two numbers when executed.  \n",
    "Also, your function must return a sentence that simply indicates if the sum of the two numbers chosen by the user is:\n",
    "* less than 10\n",
    "* between 10 and 50\n",
    "* greater than 50  \n",
    "Again, you must use `return`."
   ]
  },
  {
   "cell_type": "code",
   "execution_count": 14,
   "metadata": {},
   "outputs": [
    {
     "data": {
      "text/plain": [
       "'your sum is greater than 50'"
      ]
     },
     "execution_count": 14,
     "metadata": {},
     "output_type": "execute_result"
    }
   ],
   "source": [
    "def somme(a, b):\n",
    "    somme = a + b\n",
    "    if somme < 10:\n",
    "        return 'your sum is less than 10'\n",
    "    elif 10 <= somme < 50:\n",
    "        return 'your sum is between 10 and 50'\n",
    "    else : \n",
    "        return 'your sum is greater than 50'\n",
    "\n",
    "somme(34, 25)"
   ]
  }
 ],
 "metadata": {
  "colab": {
   "provenance": []
  },
  "kernelspec": {
   "display_name": "Python 3",
   "name": "python3"
  },
  "language_info": {
   "codemirror_mode": {
    "name": "ipython",
    "version": 3
   },
   "file_extension": ".py",
   "mimetype": "text/x-python",
   "name": "python",
   "nbconvert_exporter": "python",
   "pygments_lexer": "ipython3",
   "version": "3.11.9"
  }
 },
 "nbformat": 4,
 "nbformat_minor": 0
}
