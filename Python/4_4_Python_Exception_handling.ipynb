{
 "cells": [
  {
   "cell_type": "markdown",
   "metadata": {
    "id": "ZU6qSUveywPs"
   },
   "source": [
    "You must correct each of the scripts below **using exception handling** and **without modifying lists**."
   ]
  },
  {
   "cell_type": "markdown",
   "metadata": {
    "id": "PcSLELHnzb-X"
   },
   "source": [
    "Script number 1"
   ]
  },
  {
   "cell_type": "code",
   "execution_count": null,
   "metadata": {
    "colab": {
     "base_uri": "https://localhost:8080/",
     "height": 308
    },
    "id": "IAZK21ekypZP",
    "outputId": "cbe3bb97-d07d-40d3-e72f-b1e4b43c40b6"
   },
   "outputs": [
    {
     "name": "stdout",
     "output_type": "stream",
     "text": [
      "1.0\n",
      "0.08333333333333333\n",
      "-0.022222222222222223\n",
      "0.16666666666666666\n",
      "0.037037037037037035\n",
      "0.041666666666666664\n",
      "You can't divide by zero)\n"
     ]
    }
   ],
   "source": [
    "\n",
    "list_integers = [1, 12, -45, 6, 27, 0, 24]\n",
    "for i in list_integers:\n",
    "  try:\n",
    "    print(1/i)\n",
    "  except:\n",
    "    (\"You can't divide by zero)\")\n",
    "print(\"You can't divide by zero\")"
   ]
  },
  {
   "cell_type": "markdown",
   "metadata": {
    "id": "LeIVc9eqzezV"
   },
   "source": [
    "Script number 2"
   ]
  },
  {
   "cell_type": "code",
   "execution_count": 6,
   "metadata": {
    "colab": {
     "base_uri": "https://localhost:8080/",
     "height": 326
    },
    "id": "L6DRkiD6zgy_",
    "outputId": "e25900af-a0ca-4d8b-8497-48972c383273"
   },
   "outputs": [
    {
     "name": "stdout",
     "output_type": "stream",
     "text": [
      "1.0\n",
      "0.08333333333333333\n",
      "-0.022222222222222223\n",
      "0.16666666666666666\n",
      "0.037037037037037035\n",
      "0.041666666666666664\n",
      "Nothing went wrong\n"
     ]
    }
   ],
   "source": [
    "list_integers = [1, 12, -45, 6, 27, 24]\n",
    "for i in range(10):\n",
    "  try:\n",
    "    print(1/list_integers[i])\n",
    "  except:\n",
    "    (\"Nothing went wrong\")\n",
    "print(\"Nothing went wrong\")"
   ]
  },
  {
   "cell_type": "markdown",
   "metadata": {
    "id": "afAY9AmOzx9r"
   },
   "source": [
    "Script number 3"
   ]
  },
  {
   "cell_type": "code",
   "execution_count": 8,
   "metadata": {
    "colab": {
     "base_uri": "https://localhost:8080/",
     "height": 308
    },
    "id": "wV3ALP3yzzcc",
    "outputId": "a33f7e87-c92e-41c1-faa9-1bf7d3fa5cdd"
   },
   "outputs": [
    {
     "name": "stdout",
     "output_type": "stream",
     "text": [
      "1.0\n",
      "0.08333333333333333\n",
      "-0.022222222222222223\n",
      "0.16666666666666666\n",
      "0.037037037037037035\n",
      "0.041666666666666664\n",
      "Something went wrong\n"
     ]
    }
   ],
   "source": [
    "list_integers = [1, 12, -45, 6, 27, 0, 24]\n",
    "for i in range(10):\n",
    "  try:\n",
    "    print(1/list_integers[i])\n",
    "  except:\n",
    "    (\"Something went wrong\")\n",
    "print(\"Something went wrong\")"
   ]
  },
  {
   "cell_type": "markdown",
   "metadata": {
    "id": "8eX8Pj7Wz4rn"
   },
   "source": [
    "Script number 4"
   ]
  },
  {
   "cell_type": "code",
   "execution_count": 9,
   "metadata": {
    "colab": {
     "base_uri": "https://localhost:8080/",
     "height": 271
    },
    "id": "miobIaTyz62H",
    "outputId": "25a0a6b9-e61e-4d2e-dd3a-8c40997af2eb"
   },
   "outputs": [
    {
     "name": "stdout",
     "output_type": "stream",
     "text": [
      "HELLO\n",
      "GOOD MORNING\n",
      "GOOD EVENING\n",
      "BYE\n",
      "Something went wrong\n"
     ]
    }
   ],
   "source": [
    "list_words = ['hello', 'good morning', 'GOOD Evening', 34, 'Bye' ]\n",
    "\n",
    "for word in list_words:\n",
    "    try:\n",
    "      print(word.upper())\n",
    "    except:\n",
    "       (\"Something went wrong\")\n",
    "print(\"Something went wrong\")\n",
    "\n"
   ]
  }
 ],
 "metadata": {
  "colab": {
   "provenance": []
  },
  "kernelspec": {
   "display_name": "Python 3",
   "name": "python3"
  },
  "language_info": {
   "codemirror_mode": {
    "name": "ipython",
    "version": 3
   },
   "file_extension": ".py",
   "mimetype": "text/x-python",
   "name": "python",
   "nbconvert_exporter": "python",
   "pygments_lexer": "ipython3",
   "version": "3.11.9"
  }
 },
 "nbformat": 4,
 "nbformat_minor": 0
}
