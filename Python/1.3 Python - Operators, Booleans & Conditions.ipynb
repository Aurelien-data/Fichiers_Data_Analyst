{
 "cells": [
  {
   "cell_type": "code",
   "execution_count": 2,
   "metadata": {},
   "outputs": [
    {
     "name": "stdout",
     "output_type": "stream",
     "text": [
      "Tu as entré ta première borne 10\n",
      "Tu as entré ta deuxième borne 30\n",
      "Tu as entré ton troisième nombre 2\n",
      "Tu as inséré 2 qui est infèrieur ou égal à 10, recommence\n",
      "Tu as inséré 40 qui est supèrieur ou egal à 30, recommence\n",
      "Tu as inséré 10 qui est infèrieur ou égal à 10, recommence\n",
      "Tu as inséré 30 qui est supèrieur ou egal à 30, recommence\n",
      "Bravo, tu as inséré 20 qui est dans l'intervalle que tu as défini\n"
     ]
    }
   ],
   "source": [
    "# objectif = user doit insérer un nombre dans un intervalle qu'il devra définir\n",
    "\n",
    "nb_1 = int(input(\"entre une première borne stp ?\"))\n",
    "print(f\"Tu as entré ta première borne {nb_1}\")\n",
    "nb_2 = int(input(\"entre un deuxième borne stp ?\"))\n",
    "print(f\"Tu as entré ta deuxième borne {nb_2}\")\n",
    "\n",
    "nb_3 = int(input(\"entre un nombre dans l'intervalle des deux bornes stp ?\"))\n",
    "print(f\"Tu as entré ton troisième nombre {nb_3}\")\n",
    "\n",
    "borne_min = min(nb_1 , nb_2) # borne_min sera égale à la valeur la plus basse entre nb_1 & nb_2\n",
    "borne_max = max(nb_1 , nb_2) # borne_max sera égale à la valeur la plus haute entre nb_1 & nb_2\n",
    "\n",
    "# if borne_min == borne_max:\n",
    "#      print(int(input(f'Tu as inséré deux nombres identiques {nb_1} et {nb_2}, recommence')))\n",
    "\n",
    "while nb_3 <= borne_min or nb_3 >= borne_max : # ici, on teste la condition WHILE (tant que) nb_3 n'est pas compris entre borne_min & borne_max\n",
    "    \n",
    "    if nb_3 <= borne_min : # ici, si nb_3 est <= borne_min alors conition non remplie \n",
    "        print(f\"Tu as inséré {nb_3} qui est infèrieur ou égal à {borne_min}, recommence\")\n",
    "        nb_3 = int(input()) # ici, comme la condition vs born_min n'est pas remplie, alors nouvel input user\n",
    "    \n",
    "    elif nb_3 >= borne_max :\n",
    "        print(f\"Tu as inséré {nb_3} qui est supèrieur ou egal à {borne_max}, recommence\")\n",
    "        nb_3 = int(input())\n",
    "\n",
    "else :\n",
    "        print(f\"Bravo, tu as inséré {nb_3} qui est dans l'intervalle que tu as défini\")\n",
    "\n"
   ]
  },
  {
   "cell_type": "code",
   "execution_count": null,
   "metadata": {},
   "outputs": [],
   "source": []
  }
 ],
 "metadata": {
  "kernelspec": {
   "display_name": "Python 3",
   "language": "python",
   "name": "python3"
  },
  "language_info": {
   "codemirror_mode": {
    "name": "ipython",
    "version": 3
   },
   "file_extension": ".py",
   "mimetype": "text/x-python",
   "name": "python",
   "nbconvert_exporter": "python",
   "pygments_lexer": "ipython3",
   "version": "3.11.9"
  }
 },
 "nbformat": 4,
 "nbformat_minor": 2
}
