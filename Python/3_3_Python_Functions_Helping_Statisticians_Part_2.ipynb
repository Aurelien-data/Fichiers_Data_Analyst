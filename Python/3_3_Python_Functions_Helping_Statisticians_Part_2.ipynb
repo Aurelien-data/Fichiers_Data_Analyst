{
  "cells": [
    {
      "cell_type": "markdown",
      "metadata": {
        "id": "co2X9cGIieV0"
      },
      "source": [
        "# Help for statisticians!\n",
        "\n",
        "Your fellow statisticians need you. They want to learn how to program in Python and have tons of calculations to do.\n",
        "\n",
        "Very kindly, you agree to help them. Complete the missions below.\n",
        "\n"
      ]
    },
    {
      "cell_type": "markdown",
      "metadata": {
        "id": "CLFkEk_Fm9d4"
      },
      "source": [
        "### For all functions below, please add an extra cell where you actually call the function on at least two different inputs and displays the returned value (if the function doesn't already display stuff)."
      ]
    },
    {
      "cell_type": "code",
      "execution_count": 5,
      "metadata": {
        "id": "pIoUqiKynBbe"
      },
      "outputs": [
        {
          "data": {
            "text/plain": [
              "'lundi'"
            ]
          },
          "execution_count": 5,
          "metadata": {},
          "output_type": "execute_result"
        }
      ],
      "source": [
        "# Mission 9: Create a function that takes a day as a parameter and returns the next day (i.e. for Sunday it would return Monday).\n",
        "# You can use lists or dictionaries to solve this.\n",
        "\n",
        "list_day = ['lundi', 'mardi', 'mercredi', 'jeudi', 'vendredi','samedi', 'dimanche'] # je définie une liste avec les jours de la semaine\n",
        "def mission9(day):                          # je définie ma fonction\n",
        "\n",
        "    if day == 'dimanche':                   # condition si le jour = dimanche                \n",
        "        return(list_day[0])                 # return dimanche = index 0\n",
        "    \n",
        "    for loop in range(len(list_day)):       # boucle pour parcourir la liste dans toute sa longueur\n",
        "        if list_day[loop] == day:           # condition si dans la boucle, un element = un jour\n",
        "            return(list_day[loop+1])        # return element de la liste + 1 vs boucle\n",
        "mission9('dimanche')"
      ]
    },
    {
      "cell_type": "code",
      "execution_count": null,
      "metadata": {
        "id": "68rX-Y0AnGiR"
      },
      "outputs": [],
      "source": [
        "# Mission 10: Create a function that fills an empty list with values (words) from the following string :\n",
        "# \"After twelve soft showers are the arch-duchess' socks dry, arch-dry?\""
      ]
    },
    {
      "cell_type": "code",
      "execution_count": 10,
      "metadata": {},
      "outputs": [
        {
          "name": "stdout",
          "output_type": "stream",
          "text": [
            "['After', 'twelve', 'soft', 'showers', 'are', 'the', \"arch-duchess'\", 'socks', 'dry', 'arch-dry']\n"
          ]
        }
      ],
      "source": [
        "def phrase ():\n",
        "\n",
        "  phrase = \"After twelve soft showers are the arch-duchess' socks dry, arch-dry?\"\n",
        "  phrase_2 = phrase.replace(\",\", \"\").replace(\"?\", \"\").split()\n",
        "\n",
        "  liste_vide = []\n",
        "  liste_vide.extend(phrase_2)\n",
        "\n",
        "  return liste_vide\n",
        "\n",
        "fill_list = phrase ()\n",
        "\n",
        "print (fill_list)"
      ]
    },
    {
      "cell_type": "code",
      "execution_count": 6,
      "metadata": {
        "id": "YGNoBYBEnLAx"
      },
      "outputs": [
        {
          "data": {
            "text/plain": [
              "'ApfaOpEipaOefhOiAnzoEngozevc'"
            ]
          },
          "execution_count": 6,
          "metadata": {},
          "output_type": "execute_result"
        }
      ],
      "source": [
        "# Mission 11: Create a function that that takes a string as input, converts all characters to lowercase, and returns a new string where\n",
        "# every vowel at an even index is capitalized, keeping all other characters unchanged.\n",
        "# Example: antithetical -> AntithEtIcAl\n",
        "# Example: marvelously -> marvElOuslY\n",
        "\n",
        "def mission_11 (word):\n",
        "\n",
        "  vowels = \"aeiouyAEIOUY\"                         # je définie une variable avec les voyelles\n",
        "  word = word.lower()                             # je définie une variable avec méthode .lower()\n",
        "  result = \"\"                                     # je définie une variable pour obtenir le resultat\n",
        "\n",
        "  for index, char in enumerate(word):             # je définie une boucle qui cherche avec la fonction enumerate pour rechercher index et valeur dans variable word\n",
        "    if char in vowels and index % 2 == 0:         # condition IF pour rechercher caracteres pairs \n",
        "      result += char.upper()                      # variable pour sortir de la boucle et incrementer les caracteres en capitale\n",
        "    else:\n",
        "\n",
        "      result += char                              # on sort de la boucle \n",
        "\n",
        "  return result                                   # on retourne la fonction\n",
        "\n",
        "mission_11 (input(\"Veuillez taper un mot : \"))\n"
      ]
    },
    {
      "cell_type": "code",
      "execution_count": null,
      "metadata": {
        "id": "IJCr_jvwnOCh"
      },
      "outputs": [],
      "source": [
        "# Mission 12: Create a function that takes a number n as parameter, and then returns a list containing n lists, each containing n empty lists."
      ]
    },
    {
      "cell_type": "code",
      "execution_count": 6,
      "metadata": {},
      "outputs": [
        {
          "data": {
            "text/plain": [
              "[[[], [], []], [[], [], []], [[], [], []]]"
            ]
          },
          "execution_count": 6,
          "metadata": {},
          "output_type": "execute_result"
        }
      ],
      "source": [
        "def create_list(n):   \n",
        "\n",
        "    final_list = []\n",
        "\n",
        "    for loop in range(n):\n",
        "        sous_list = []\n",
        "        for sous_loop in range(n):\n",
        "            sous_list.append([])\n",
        "        final_list.append(sous_list)\n",
        "\n",
        "    return(final_list)\n",
        "\n",
        "create_list(3)"
      ]
    },
    {
      "cell_type": "code",
      "execution_count": 15,
      "metadata": {
        "id": "xjYGsODEnSb2"
      },
      "outputs": [
        {
          "data": {
            "text/plain": [
              "'Hello, Aurélien, today you are 40 years old'"
            ]
          },
          "execution_count": 15,
          "metadata": {},
          "output_type": "execute_result"
        }
      ],
      "source": [
        "# Mission 13: Create a function that takes two inputs, their year of birth and first name.\n",
        "# Convert the year of birth into an int and subtract it from the current year (you can do it using a certain module :-P).\n",
        "# Then display the message: Hello [first name], today you are (or you will be this year) [age] years old.\n",
        "# When testing the function, ask the user for the parameters!\n",
        "\n",
        "from datetime import date                                           # choix du module datetime pour manipuler les dates\n",
        "\n",
        "def fn_mission13(val1, val2):                                       # definition de la fonction avec deux parametres : inpput 1 = firstname, input 2 = year of birth\n",
        "    today = date.today()                                            # variable avec module date associé a today ==> pour connaitre la date du jour\n",
        "    current_year = int(today.year)                                  # variable pour connaître l'année actuelle\n",
        "    current_age = current_year - val2                               # variable pour calculer l age actuel : annee actuelle - year of birth\n",
        "    return f'Hello, {val1}, today you are {current_age} years old'  # retourne la fonction\n",
        "\n",
        "val1 = str(input(\"write your firstname\"))                           # déclaration variable via input pour obtenir le prenom\n",
        "val2 = int(input(\"enter your date of birth\"))                       # déclaration variable via input pour obtenir la date de naissance\n",
        "\n",
        "fn_mission13(val1, val2)                                            # appelle de la fonction\n",
        "\n"
      ]
    }
  ],
  "metadata": {
    "colab": {
      "provenance": []
    },
    "kernelspec": {
      "display_name": "Python 3",
      "name": "python3"
    },
    "language_info": {
      "codemirror_mode": {
        "name": "ipython",
        "version": 3
      },
      "file_extension": ".py",
      "mimetype": "text/x-python",
      "name": "python",
      "nbconvert_exporter": "python",
      "pygments_lexer": "ipython3",
      "version": "3.11.9"
    }
  },
  "nbformat": 4,
  "nbformat_minor": 0
}
