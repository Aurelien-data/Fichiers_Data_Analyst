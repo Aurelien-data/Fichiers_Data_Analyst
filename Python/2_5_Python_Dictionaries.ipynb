{
 "cells": [
  {
   "cell_type": "markdown",
   "metadata": {
    "id": "LoJw-LlCTnWF"
   },
   "source": [
    "# Mission 1\n",
    "\n",
    "Below is a dictionary containing the number of French campuses that offer each kind of Wild Code School course.\n",
    "\n",
    "wildcodeschool = {\n",
    "   \"data_analyst\": 4,\n",
    "   \"data_scientist\": 2,\n",
    "   \"dev_web\": \"13\"\n",
    "}\n",
    "\n",
    "Find a way to only display the keys that have int values."
   ]
  },
  {
   "cell_type": "code",
   "execution_count": 1,
   "metadata": {
    "id": "C2Lk113KSPUO"
   },
   "outputs": [
    {
     "name": "stdout",
     "output_type": "stream",
     "text": [
      "data_analyst\n",
      "data_scientist\n"
     ]
    }
   ],
   "source": [
    "wildcodeschool =\t{\n",
    "  \"data_analyst\": 4,\n",
    "  \"data_scientist\": 2,\n",
    "  \"dev_web\": \"13\"\n",
    "}\n",
    "\n",
    "\n",
    "for keys in wildcodeschool:\n",
    "    if type (wildcodeschool[keys]) == int:\n",
    "      print(keys)\n",
    "\n"
   ]
  },
  {
   "cell_type": "markdown",
   "metadata": {
    "id": "J3bsGIvAT049"
   },
   "source": [
    "# Mission 2\n",
    "\n",
    "For the same dictionary, find a way to display all the values that have a key that contains the letter \"e\"."
   ]
  },
  {
   "cell_type": "code",
   "execution_count": 2,
   "metadata": {
    "id": "Fy1OmPSUXNaP"
   },
   "outputs": [
    {
     "name": "stdout",
     "output_type": "stream",
     "text": [
      "2\n",
      "13\n"
     ]
    }
   ],
   "source": [
    "wildcodeschool =\t{\n",
    "  \"data_analyst\": 4,\n",
    "  \"data_scientist\": 2,\n",
    "  \"dev_web\": \"13\"\n",
    "}\n",
    "\n",
    "for key in wildcodeschool.keys():\n",
    "    if \"e\" in key:\n",
    "        print(wildcodeschool[key])\n",
    "        \n",
    "\n",
    "      "
   ]
  },
  {
   "cell_type": "markdown",
   "metadata": {
    "id": "dVl36lvlWLdV"
   },
   "source": [
    "# Mission 3\n",
    "\n",
    "Within the same dictionary, change the type of the value of the \"dev_web\" key to be an int. Then add a new key-value pair which will be \"total_campus\" : 19, using a **dictionary method**."
   ]
  },
  {
   "cell_type": "code",
   "execution_count": 3,
   "metadata": {
    "id": "pN3_mD4YSPfb"
   },
   "outputs": [
    {
     "name": "stdout",
     "output_type": "stream",
     "text": [
      "{'data_analyst': 4, 'data_scientist': 2, 'dev_web': 13}\n",
      "{'data_analyst': 4, 'data_scientist': 2, 'dev_web': 13, 'total_campus': 19}\n",
      "{'data_analyst': 4, 'data_scientist': 2, 'dev_web': 13, 'total_campus': 19}\n"
     ]
    }
   ],
   "source": [
    "wildcodeschool =\t{\n",
    "  \"data_analyst\": 4,\n",
    "  \"data_scientist\": 2,\n",
    "  \"dev_web\": \"13\"                             # valeur clé dev_web ==> str\n",
    "}\n",
    "\n",
    "wildcodeschool.update({\"dev_web\": 13})        # changement de la valeur de la clé dev_web en int avec la méthode .update\n",
    "print(wildcodeschool)\n",
    "\n",
    "\n",
    "wildcodeschool.update({\"total_campus\": 19})   # ajout de la clé \"total_campus\" avec sa valeur 19\n",
    "print(wildcodeschool)\n",
    "\n",
    "\"\"\"\n",
    "autre méthode pour ajouter la paire clé/ valeur au dictionnaire\n",
    "\"\"\"\n",
    "\n",
    "wildcodeschool[\"total_campus\"] = 19           # ajout de la clé \"total_campus\" avec sa valeur 19\n",
    "print(wildcodeschool)"
   ]
  },
  {
   "cell_type": "markdown",
   "metadata": {
    "id": "GCvpkWzXXPTf"
   },
   "source": [
    "# Mission 4\n",
    "\n",
    "Take the dictionary generated from mission 3. Delete the key value pair :\n",
    "- 'dev_web': 13 using a method\n",
    "- 'total_campus': 19 using another method"
   ]
  },
  {
   "cell_type": "code",
   "execution_count": 4,
   "metadata": {
    "id": "QjLMjogySPk_"
   },
   "outputs": [
    {
     "name": "stdout",
     "output_type": "stream",
     "text": [
      "{'data_analyst': 4, 'data_scientist': 2, 'dev_web': 13, 'total_campus': 19}\n",
      "{'data_analyst': 4, 'data_scientist': 2, 'total_campus': 19}\n",
      "{'data_analyst': 4, 'data_scientist': 2}\n"
     ]
    }
   ],
   "source": [
    "wildcodeschool =\t{\n",
    "  \"data_analyst\": 4,\n",
    "  \"data_scientist\": 2,\n",
    "  \"dev_web\": 13,\n",
    "  \"total_campus\": 19                         \n",
    "}\n",
    "print(wildcodeschool)                       # affichage dict initial\n",
    "\n",
    "wildcodeschool.pop(\"dev_web\")\n",
    "print(wildcodeschool)\n",
    "\n",
    "del wildcodeschool[\"total_campus\"]               # utilisation fonction del pour supprimer clé dev_web\n",
    "print(wildcodeschool)\n",
    "\n"
   ]
  },
  {
   "cell_type": "markdown",
   "metadata": {
    "id": "V8ZS3aECXvuZ"
   },
   "source": [
    "# Mission 5\n",
    "\n",
    "Still within the dictionary generated from Mission 3, find a way to display the dictionary keys in alphabetical order."
   ]
  },
  {
   "cell_type": "code",
   "execution_count": 5,
   "metadata": {},
   "outputs": [
    {
     "name": "stdout",
     "output_type": "stream",
     "text": [
      "['data_analyst', 'data_scientist', 'dev_web', 'total_campus']\n"
     ]
    }
   ],
   "source": [
    "wildcodeschool =\t{                                           # instanciation d'un dictionnaire\n",
    "  \"data_scientist\": 2,\n",
    "  \"dev_web\": 13,\n",
    "  \"total_campus\": 19,\n",
    "  \"data_analyst\": 4,                         \n",
    "}\n",
    "\n",
    "sorted_wildcodeschool = sorted(wildcodeschool.keys())  # instanciation d'une nouvelle variable pour stocker le dict iniital trié\n",
    "                                                              # syntaxe = dict(sorted(nom dico initial.items()))\n",
    "print(sorted_wildcodeschool)                                  # affichage dict trié\n"
   ]
  },
  {
   "cell_type": "markdown",
   "metadata": {
    "id": "geMLdrvAYHKx"
   },
   "source": [
    "# Mission 6\n",
    "\n",
    "Create a script that returns the same elements as the **values()** method, as a list.\n",
    "\n",
    "Example: for `{'a': 1, 'b': 2, 'c': 3}` it will create `[1, 2, 3]`"
   ]
  },
  {
   "cell_type": "code",
   "execution_count": 6,
   "metadata": {
    "id": "1-cenx3RSPpq"
   },
   "outputs": [
    {
     "name": "stdout",
     "output_type": "stream",
     "text": [
      "[2, 1, 0]\n"
     ]
    }
   ],
   "source": [
    "wildcodeschool =\t{                                          # instanciation variable dictionnaire\n",
    "  \"data_analyst\": 4,\n",
    "  \"data_scientist\": 2,\n",
    "  \"dev_web\": 13,\n",
    "  \"total_campus\": 19                         \n",
    "}\n",
    "\n",
    "# declarer variable sous forme de liste\n",
    "# boucle pour parcourir la varaible\n",
    "# affichage des valeurs sous forme de liste\n",
    "\n",
    "\n",
    "var = {\"A\" : 2, \"B\" : 1, \"C\" : 0}\n",
    "list_var = []                             # conversion du dictionnaire en liste\n",
    "\n",
    "for loop in var.values():                 # Parcourir en boucle la liste des valeurs.\n",
    "    list_var.append(loop)\n",
    "print(list_var)                           # affichage boucle"
   ]
  }
 ],
 "metadata": {
  "colab": {
   "provenance": []
  },
  "kernelspec": {
   "display_name": "Python 3",
   "name": "python3"
  },
  "language_info": {
   "codemirror_mode": {
    "name": "ipython",
    "version": 3
   },
   "file_extension": ".py",
   "mimetype": "text/x-python",
   "name": "python",
   "nbconvert_exporter": "python",
   "pygments_lexer": "ipython3",
   "version": "3.11.9"
  }
 },
 "nbformat": 4,
 "nbformat_minor": 0
}
